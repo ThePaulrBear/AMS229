{
 "cells": [
  {
   "cell_type": "markdown",
   "metadata": {},
   "source": [
    "# Source localization problem\n",
    "\n",
    "Consider $m$ sensors at known locations $a_{i}\\in\\mathbb{R}^{n}$ (in practical applications, $n=2$ or $3$). A source located at unknown location $x\\in\\mathbb{R}^{n}$ is emitting signal. From the strength of the signal received by the sensors, it is possible to get noisy measurement of the range $r_{i}$ between the source and the $i$-th sensor:\n",
    "\n",
    "$$r_{i} \\:=\\: \\parallel x - a_{i} \\parallel_{2} \\:+\\: \\varepsilon_{i}, \\quad i=1,...,m,$$\n",
    "\n",
    "where $(\\varepsilon_{1}, ..., \\varepsilon_{m})^{\\top}$ denotes the unknown noise vector. We would like to estimate the source location $x\\in\\mathbb{R}^{n}$ from the noisy measurements $r_{i}>0$."
   ]
  },
  {
   "cell_type": "markdown",
   "metadata": {},
   "source": [
    "(a) (10+10+10=30 points) A natural way to formulate the source localization problem is to cast it as:\n",
    "\n",
    "$$\\underset{x\\in\\mathbb{R}^{n}}{\\text{minimize}}\\:\\displaystyle\\sum_{i=1}^{m}\\left(r_{i} - \\parallel x - a_{i} \\parallel_{2}\\:\\right)^{2},$$\n",
    "\n",
    "or equivalently,\n",
    "\n",
    "$$\\begin{aligned}\n",
    "&\\underset{x\\in\\mathbb{R}^{n},g\\in\\mathbb{R}^{m}}{\\text{minimize}}\\:\\displaystyle\\sum_{i=1}^{m}\\left(r_{i} - g_{i}\\right)^{2},\\\\\n",
    "&\\text{subject to}\\quad g_{i}^{2} \\:=\\: \\parallel x - a_{i} \\parallel_{2}^{2}, \\quad i=1,...,m,\n",
    "\\end{aligned}$$\n",
    "\n",
    "which is a nonconvex problem. \n",
    "\n",
    "(a.1) Use the change of variables \n",
    "\n",
    "$$G := \\begin{pmatrix}g\\\\1\n",
    "\\end{pmatrix}\\left(g^{\\top} \\; 1\\right), \\quad X := \\begin{pmatrix}x\\\\1\n",
    "\\end{pmatrix}\\left(x^{\\top} \\; 1\\right),\n",
    "$$\n",
    "\n",
    "to transcribe the above problem as an optimization problem over the matrix variable pair $(X,G)$. \n",
    "\n",
    "(a.2) Is the resulting optimization problem in (a.1) convex? Why/why not? \n",
    "\n",
    "(a.3) If you think the problem in (a.1) is a convex optimization problem, then what kind is it? If you think it is not, then derive a (sub-optimal) convex relaxation of this problem."
   ]
  },
  {
   "cell_type": "markdown",
   "metadata": {},
   "source": [
    "(b) (15 points) In general, solving the formulation given in part (a) is difficult. A different approach is to consider the \"squared range\", instead of \"range\", as the measurement. This amounts to solving\n",
    "\n",
    "$$\\underset{x\\in\\mathbb{R}^{n}}{\\text{minimize}}\\:\\underbrace{\\displaystyle\\sum_{i=1}^{m}\\left(\\parallel x - a_{i} \\parallel_{2}^{2} \\: - \\: r_{i}^{2} \\right)^{2}}_{f_{0}(x)},$$\n",
    "\n",
    "or equivalently,\n",
    "\n",
    "$$\\begin{aligned}\n",
    "&\\underset{x\\in\\mathbb{R}^{n}, \\alpha\\in\\mathbb{R}}{\\text{minimize}}\\:\\displaystyle\\sum_{i=1}^{m}\\left(\\alpha - 2a_{i}^{\\top}x + \\parallel a_{i} \\parallel_{2}^{2} - r_{i}^{2}\\right)^{2},\\\\\n",
    "&\\text{subject to}\\quad x^{\\top}x \\:=\\: \\alpha.\n",
    "\\end{aligned}$$\n",
    "\n",
    "Introducing $y := \\begin{pmatrix}x\\\\ \\alpha\\end{pmatrix}\\in\\mathbb{R}^{n+1}$, rewrite the above problem as\n",
    "\n",
    "$$\\begin{aligned}\n",
    "&\\underset{y\\in\\mathbb{R}^{n+1}}{\\text{minimize}}\\:\\parallel Ay - b\\parallel_{2}^{2},\\\\\n",
    "&\\text{subject to}\\quad y^{\\top}Cy + 2d^{\\top}y \\:=\\: 0.\n",
    "\\end{aligned}$$\n",
    "\n",
    "In other words, express $A, b, C, d$ as function of the problem data: $r_{1}^{2},...,r_{m}^{2}$, and $a_{1},...,a_{m}$."
   ]
  },
  {
   "cell_type": "markdown",
   "metadata": {},
   "source": [
    "(c) (10 points) Is the optimization problem derived in part (b) convex? Why/why not?"
   ]
  },
  {
   "cell_type": "markdown",
   "metadata": {},
   "source": [
    "(d) (20 points) Consider the problem derived in part (b) as primal problem. This primal problem enjoys zero duality gap since it amounts to minimizing a quadratic function subject to single quadratic constraint (generalized trust-region problem, see e.g., Lecture 12 notes, p.11-12 for trust region problem). \n",
    "\n",
    "Thanks to zero duality gap, one possible line of attack to solve the primal in part (b), is to first derive its Lagrange dual problem, solve that via cvxpy, and then invoke strong duality. Using this strategy, compute the optimal estimate of the source location $x^{\\rm{opt}}\\in\\mathbb{R}^{2}$, for $m=5$ sensors located at\n",
    "\n",
    "$$a_{1} = \\begin{pmatrix} 1.8\\\\2.5\\end{pmatrix}, \\quad a_{2} = \\begin{pmatrix} 2.0\\\\1.7\\end{pmatrix}, \\quad a_{3} = \\begin{pmatrix} 1.5\\\\1.5\\end{pmatrix}, \\quad a_{4} = \\begin{pmatrix} 1.5\\\\2.0\\end{pmatrix}, \\quad a_{5} = \\begin{pmatrix} 2.5\\\\1.5\\end{pmatrix},$$\n",
    "\n",
    "with $r = (2.00, 1.24, 0.59, 1.31, 1.44)$. Please supply your code in the notebook. \n",
    "\n",
    "For the above data, the following figure (credit: Boyd-Vanderberghe) shows the contour lines for the objective $f_{0}(x)$ in part (b) with sensor locations $a_{i}$ indicated by circles. \n",
    "\n",
    "<img width=\"350\" src=\"AMS229F18HW6.png\">"
   ]
  },
  {
   "cell_type": "markdown",
   "metadata": {},
   "source": [
    "(e) (25 points) Another way to solve for the primal in part (b) is the following. Use the KKT condition to write the primal argmin $x^{\\rm{opt}}$ as an explicit function of the optimal Lagrange multiplier $\\nu^{\\rm{opt}}$. Then derive a nonlinear algebraic equation of the form $\\phi(\\nu^{\\rm{opt}}) = 0$ and solve the same using bisection method for the numerical data given in part (d). Finally, compute and compare $x^{\\rm{opt}}$ obtained from the KKT analysis with that obtained from part (d). "
   ]
  }
 ],
 "metadata": {
  "kernelspec": {
   "display_name": "Python 2",
   "language": "python",
   "name": "python2"
  },
  "language_info": {
   "codemirror_mode": {
    "name": "ipython",
    "version": 2
   },
   "file_extension": ".py",
   "mimetype": "text/x-python",
   "name": "python",
   "nbconvert_exporter": "python",
   "pygments_lexer": "ipython2",
   "version": "2.7.14"
  }
 },
 "nbformat": 4,
 "nbformat_minor": 2
}
