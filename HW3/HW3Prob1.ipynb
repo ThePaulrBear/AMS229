{
 "cells": [
  {
   "cell_type": "markdown",
   "metadata": {},
   "source": [
    "# Support function\n",
    "\n",
    "The support function of any compact convex set $\\mathcal{X} \\subset \\mathbb{R}^{n}$ is defined as\n",
    "\n",
    "$$ h(y)  := \\sup_{x\\in\\mathcal{X}}\\:\\{x^{\\top}y \\:\\mid y\\in\\mathbb{R}^{n}\\},$$\n",
    "\n",
    "which can be geometrically interpreted as the perpendicular distane from the origin to the supporting hyperplane of $\\mathcal{X}$. Therefore, the support function uniquely determines a convex set."
   ]
  },
  {
   "cell_type": "markdown",
   "metadata": {},
   "source": [
    "(a) (10 points) Prove that $h(\\cdot)$ is a convex function of $y$. (Hint: think operations preserving function convexity)."
   ]
  },
  {
   "cell_type": "markdown",
   "metadata": {},
   "source": [
    "(b) (10 points) Identify the function $f(x)$ whose Legendre-Fenchel conjugate equals $h(y)$. Interpret your answer."
   ]
  },
  {
   "cell_type": "markdown",
   "metadata": {},
   "source": [
    "(c) (10 points) Prove that ${\\rm{epi}}(h)$ is a convex cone. "
   ]
  },
  {
   "cell_type": "markdown",
   "metadata": {},
   "source": [
    "(d) (10 points) Suppose two compact convex sets $\\mathcal{X}_{1},\\mathcal{X}_{2} \\subset \\mathbb{R}^{n}$ have support functions $h_{1}(\\cdot)$ and $h_{2}(\\cdot)$, respectively. Derive the support function $h(\\cdot)$ for the Minkowski sum $\\mathcal{X}_{1} + \\mathcal{X}_{2}$ (which is a convex set, as proved in Lecture 4, pg. 5 bottom). In other words, express $h(\\cdot)$ in terms of $h_{1}(\\cdot)$ and $h_{2}(\\cdot)$."
   ]
  },
  {
   "cell_type": "code",
   "execution_count": null,
   "metadata": {
    "collapsed": true
   },
   "outputs": [],
   "source": []
  }
 ],
 "metadata": {
  "kernelspec": {
   "display_name": "Python 2",
   "language": "python",
   "name": "python2"
  },
  "language_info": {
   "codemirror_mode": {
    "name": "ipython",
    "version": 2
   },
   "file_extension": ".py",
   "mimetype": "text/x-python",
   "name": "python",
   "nbconvert_exporter": "python",
   "pygments_lexer": "ipython2",
   "version": "2.7.14"
  }
 },
 "nbformat": 4,
 "nbformat_minor": 2
}
