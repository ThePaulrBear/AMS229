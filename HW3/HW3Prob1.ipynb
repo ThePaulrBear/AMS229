{
 "cells": [
  {
   "cell_type": "markdown",
   "metadata": {},
   "source": [
    "# Support function$ \n",
    "% General Latex Definitions\n",
    "\\newcommand {\\vec}{\\mathbf} % Redfine vector variable rendering\n",
    "\\newcommand {\\mat}{\\mathbf} % Redfine matrix variable rendering\n",
    "\\newcommand {\\set}{\\mathcal} % Redefine set name redering\n",
    "\\newcommand{\\trans}{^ \\top} % \\intercal} % Vector or matrix transpose notation (\\intercal is an alternative)\n",
    "\\newcommand{\\suchthat}{\\mid} %Alternative: \\mathrel{} \\middle| \\mathrel{} \n",
    "\\newcommand {\\definedas}{:=}\n",
    "% Sets\n",
    "\\newcommand {\\reals}{\\mathbb{R}}\n",
    "\\newcommand {\\realsn}{\\reals^{n}}\n",
    "\\newcommand {\\positivereals}{\\reals_{++}}\n",
    "\\newcommand {\\integers}{\\mathbb{Z}}\n",
    "\\newcommand {\\squareMatrices}{\\reals^{n \\times n}}\n",
    "\\newcommand {\\symmetricmatrices}{\\mathbb{S}^{n}}\n",
    "\\newcommand {\\pdMatrices}{\\symmetricmatrices_{++}}\n",
    "\\newcommand {\\psdMatrices}{\\symmetricmatrices_{+}}\n",
    "% Matrix shortcut\n",
    "\\newcommand {\\matstart}{\\begin{bmatrix}}\n",
    "\\newcommand {\\matend}{\\end{bmatrix}}\n",
    "% Common variables\n",
    "\\newcommand {\\x}{\\vec x} % if x is a scalar, use 'x' instead of '\\x'\n",
    "\\newcommand {\\y}{\\vec y} % if x is a scalar, use 'x' instead of '\\x'\n",
    "\\newcommand {\\A}{\\mat A} \n",
    "\\newcommand {\\B}{\\mat B} \n",
    "% Convex Optimizations\n",
    "\\newcommand \\convexcombo[2]{\\theta #1 + (1 - \\theta)#2}\n",
    "$\n",
    "\n",
    "$\\newcommand {\\supportdefinition}{ h(y)  := \\sup_{x\\in\\mathcal{X}}\\:\\left\\{x^{\\top}y \\:\\mid y\\in\\mathbb{R}^{n}\\right\\}}$\n",
    "The support function of any compact convex set $\\mathcal{X} \\subset \\mathbb{R}^{n}$ is defined as\n",
    "\n",
    "$$ \\supportdefinition,$$\n",
    "\n",
    "which can be geometrically interpreted as the perpendicular distane from the origin to the supporting hyperplane of $\\mathcal{X}$. Therefore, the support function uniquely determines a convex set."
   ]
  },
  {
   "cell_type": "markdown",
   "metadata": {
    "heading_collapsed": true
   },
   "source": [
    "### Working notes"
   ]
  },
  {
   "cell_type": "markdown",
   "metadata": {
    "hidden": true
   },
   "source": [
    "The support function is the maximum value of $x\\trans y$ for a given $y \\in R_n$ such that $x \\in \\set X$. \n",
    "\n",
    "* Is y fixed, or is it the independent variable?\n",
    "* y is passed into the function, so it is fixed (and restricted to Rn). \n",
    "* How does <x,y> = c represent a plane?\n",
    "\n",
    "So, this is effectively taking a convex set that is a strict subset of Rn. We then define a normal vector for a family of planes. The value of h is the farthest distance from the origin to one of those planes such that the plane grazes the set X. "
   ]
  },
  {
   "cell_type": "markdown",
   "metadata": {
    "deletable": false,
    "editable": false
   },
   "source": [
    "## (a) (10 points) \n",
    "Prove that $h(\\cdot)$ is a convex function of $y$. (Hint: think operations preserving function convexity)."
   ]
  },
  {
   "cell_type": "markdown",
   "metadata": {},
   "source": [
    "### Answer\n",
    "The expression $\\x \\trans \\y$ defines a family of linear functions with respect to $\\y$ indexed over $\\x$ on a convex domain, $\\set X$. Additionally, $h(\\dot)$ is a pointwise maximum of h is the pointwise maximum of $\\x \\trans \\y$, therefore $h(\\cdot)$ is convex. "
   ]
  },
  {
   "cell_type": "markdown",
   "metadata": {
    "deletable": false,
    "editable": false
   },
   "source": [
    "## (b) (10 points) \n",
    "Identify the function $f(x)$ whose Legendre-Fenchel conjugate equals $h(y)$. Interpret your answer."
   ]
  },
  {
   "cell_type": "markdown",
   "metadata": {},
   "source": [
    "### Answer\n",
    "The definition of the Legendre-Funchel conjugate is that, given $f: \\reals^n \\to \\reals$, then the Legrendre-Fenchel transform of $f$ is\n",
    "\n",
    "$$f^*(\\y) = \\sup_{x\\in\\set\n",
    "{X}}\\{\\y \\trans \\x - f(\\x)\\}$$\n",
    "\n",
    "Therefore, the function $f(\\x) = 0$, will have the Legendre-Funchel conjugate of $h(\\cdot)$.\n",
    "\n",
    "$$f^*(\\y) = \\sup_{\\x \\in \\set X}\\left\\{\\y \\trans \\x - 0 \\suchthat y\\in\\reals^n \\right\\} = h(\\y)$$\n"
   ]
  },
  {
   "cell_type": "markdown",
   "metadata": {},
   "source": [
    "### (c) (10 points) \n",
    "Prove that ${\\rm{epi}}(h)$ is a convex cone. "
   ]
  },
  {
   "cell_type": "markdown",
   "metadata": {},
   "source": [
    "### Working Notes $\n",
    "\\newcommand {\\epi}{\\text{epi}}\n",
    "\\newcommand {\\X}{\\set X}\n",
    "\\newcommand {\\yone}{\\y_1}\n",
    "\\newcommand {\\ytwo}{\\y_2}\n",
    "\\newcommand {\\tone}{t_1}\n",
    "\\newcommand {\\ttwo}{t_2}\n",
    "$\n",
    "The epigraph of $f$ is defined as follows:\n",
    "\n",
    "$$\\epi(f) \\definedas \\{(\\x, t) \\suchthat f(\\x) \\leq t\\},$$\n",
    "\n",
    "so if we take the epigraph of $h(\\cdot)$, then we get \n",
    "\n",
    "$$ \\epi(h) = \\{(\\y, t) \\suchthat \\sup_{\\x \\in \\X} \\: \\{\\x \\trans \\y \\suchthat \\y \\in \\realsn \\} \\leq t \\}$$\n",
    "\n",
    "We can show this is convex from definition. \n",
    "\n",
    "Take $(\\yone, \\tone) \\in \\epi(h)$, $(\\ytwo, \\ttwo) \\in \\epi(h)$, and $0 \\leq \\theta \\leq 1$. We know that \n",
    "\n",
    "$$\\begin{align} \n",
    "\\sup_{\\x \\in \\X} \\left\\{\\x \\trans \\yone \\right\\} &\\leq \\tone \\\\\n",
    "\\theta \\sup_{\\x \\in \\X} \\left\\{\\x \\trans \\yone \\right\\} &\\leq \\theta \\tone \n",
    "\\end{align}$$\n",
    "\n",
    "and \n",
    "\n",
    "$$\\begin{align} \n",
    "\\sup_{\\x \\in \\X} \\left\\{\\x \\trans \\ytwo \\right\\} &\\leq \\ttwo \\\\\n",
    "(1 - \\theta) \\sup_{\\x \\in \\X} \\left\\{\\x \\trans \\ytwo \\right\\} &\\leq (1-\\theta) \\ttwo \n",
    "\\end{align}$$\n",
    "\n",
    "Add (2) to (4):\n",
    "\n",
    "$$\\begin{align} \n",
    "\\convexcombo{\n",
    "    \\sup_{\\x \\in \\X} \\{\\x \\trans \\ytwo \\}}\n",
    "    {\\sup_{\\x \\in \\X} \\{\\x \\trans \\ytwo \\}} \n",
    "&\\leq \\convexcombo{\\tone}{\\ttwo} \\\\\n",
    "\\sup_{\\x \\in \\X} \\{\\theta \\x \\trans \\ytwo \\} + \\sup_{\\x \\in \\X} \\{(1-\\theta) \\x \\trans \\ytwo \\}\n",
    "&\\leq \\\\\n",
    "\\sup_{\\x \\in \\X} \\{\\theta \\x \\trans \\ytwo + (1-\\theta) \\x \\trans \\ytwo \\}\n",
    "&\\leq \\\\\n",
    "\\sup_{\\x \\in \\X} \\{\\x \\trans (\\convexcombo{\\ytwo}{\\ytwo})\\}\n",
    "&\\leq \n",
    "\\end{align}$$\n",
    "\n",
    "Therefore we have shown that the convex combination of any two elements in $\\epi(h)$ is also in $\\epi(h)$, therefore $\\epi(h)$ is convex. "
   ]
  },
  {
   "cell_type": "markdown",
   "metadata": {},
   "source": [
    "Take $(\\y, t) \\in epi(h)$ and $\\phi \\geq 0$, so \n",
    "\n",
    "$$\n",
    "\\sup_{\\x \\in \\X}\\{\\x \\trans \\y \\} \\leq t\n",
    "$$\n",
    "\n",
    "If we take $\\phi \\geq 0$, then\n",
    "\n",
    "$$ \\begin{align}\n",
    "\\phi \\sup_{\\x \\in \\X}\\{\\x \\trans \\y \\} \\leq \\phi t \\\\ \n",
    "\\sup_{\\x \\in \\X}\\{\\x \\trans (\\phi  \\y) \\} \\leq \\phi t\n",
    "\\end{align}\n",
    "$$\n",
    "\n",
    "Therefore $(\\phi \\y, \\phi t) \\in \\epi(h), \\quad \\forall (\\y, t) \\in \\epi(h), \\phi \\geq 0$, so $\\epi(h)$ is conic. "
   ]
  },
  {
   "cell_type": "markdown",
   "metadata": {},
   "source": [
    "### (d)  (10 points) \n",
    "Suppose two compact convex sets $\\mathcal{X}_{1},\\mathcal{X}_{2} \\subset \\mathbb{R}^{n}$ have support functions $h_{1}(\\cdot)$ and $h_{2}(\\cdot)$, respectively. Derive the support function $h(\\cdot)$ for the Minkowski sum $\\mathcal{X}_{1} + \\mathcal{X}_{2}$ (which is a convex set, as proved in Lecture 4, pg. 5 bottom). In other words, express $h(\\cdot)$ in terms of $h_{1}(\\cdot)$ and $h_{2}(\\cdot)$."
   ]
  },
  {
   "cell_type": "markdown",
   "metadata": {},
   "source": [
    "### Answer$\n",
    "\\newcommand {\\xone}{\\x_1}\n",
    "\\newcommand {\\xtwo}{\\x_2}\n",
    "\\newcommand {\\Xone}{\\set X_1}\n",
    "\\newcommand {\\Xtwo}{\\set X_2}\n",
    "\\newcommand {\\W}{\\set W}\n",
    "$\n",
    "We are considering the set $$ \\W = \\Xone + \\Xtwo = \\{\\xone + \\xtwo \\suchthat \\xone \\in \\Xone, \\: \\xtwo \\in \\Xtwo \\}$$\n",
    "\n",
    "Therefore the support function of $\\W$ is\n",
    "\n",
    "$$ \\begin{align}\n",
    "h(\\y) &= \\sup_{\\xone \\in \\Xone, \\xtwo \\in \\Xtwo} \\left\\{ (\\xone + \\xtwo)\\trans \\y \\suchthat \\y \\in \\reals^n \\right\\} \\\\\n",
    "&= \\sup_{\\xone \\in \\Xone, \\xtwo \\in \\Xtwo} \\left\\{ \\xone \\trans \\y + \\xtwo \\trans \\y \\suchthat \\y \\in \\reals^n \\right\\} \\\\\n",
    "&= \\sup_{\\xone \\in \\Xone} \\left\\{ \\xone \\trans \\y \\suchthat \\y \\in \\reals^n \\right\\} + \\sup_{\\xtwo \\in \\Xtwo} \\left\\{\\xtwo \\trans \\y \\suchthat \\y \\in \\reals^n \\right\\}\\\\\n",
    "&= h_1(\\y) + h_2(\\y) \n",
    "\\end{align}\n",
    "$$"
   ]
  }
 ],
 "metadata": {
  "kernelspec": {
   "display_name": "Python 3",
   "language": "python",
   "name": "python3"
  },
  "language_info": {
   "codemirror_mode": {
    "name": "ipython",
    "version": 3
   },
   "file_extension": ".py",
   "mimetype": "text/x-python",
   "name": "python",
   "nbconvert_exporter": "python",
   "pygments_lexer": "ipython3",
   "version": "3.6.4"
  }
 },
 "nbformat": 4,
 "nbformat_minor": 2
}
