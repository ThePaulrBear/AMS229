{
 "cells": [
  {
   "cell_type": "markdown",
   "metadata": {},
   "source": [
    "# Friends of convex$ \n",
    "% General Latex Definitions\n",
    "\\newcommand {\\vec}{\\mathbf} % Vector variable\n",
    "\\newcommand {\\mat}{} % Matrix variable\n",
    "\\newcommand {\\set}{\\mathcal} % Set name\n",
    "\\newcommand{\\invs}{^{-1}}\n",
    "\\newcommand{\\trans}{^ \\top} % \\intercal} % Vector or matrix transpose notation (\\intercal is an alternative)\n",
    "\\newcommand{\\suchthat}{\\mid} %Alternative: \\mathrel{} \\middle| \\mathrel{} \n",
    "\\newcommand {\\definedas}{:=}\n",
    "\\newcommand {\\arctan}{\\text{tan}^{-1}}\n",
    "\\newcommand {\\norm}[1]{||#1||_2}\n",
    "\\newcommand {\\abs}[1]{|#1|}\n",
    "\\newcommand {\\for}{\\text{for}\\;}\n",
    "% Sets\n",
    "\\newcommand {\\reals}{\\mathbb{R}}\n",
    "\\newcommand {\\realsn}{\\reals^{n}}\n",
    "\\newcommand {\\positivereals}{\\reals_{>0}}\n",
    "\\newcommand {\\integers}{\\mathbb{Z}}\n",
    "\\newcommand \\squarematrices[1][n]{\\reals^{#1 \\times #1}}\n",
    "\\newcommand \\symmetricmatrices[1][n]{\\mathbb{S}^{#1}}\n",
    "\\newcommand \\pdmatrices[1][n]{\\symmetricmatrices[#1]_{++}}\n",
    "\\newcommand \\psdmatrices[1][n]{\\symmetricmatrices[#1]_{+}}\n",
    "% Common vectors. If a value is a variable don't use the \"\\\"\n",
    "\\newcommand {\\x}{\\vec x}\n",
    "\\newcommand {\\y}{\\vec y} \n",
    "\\newcommand {\\u}{\\vec u}\n",
    "\\newcommand {\\v}{\\vec v}\n",
    "% Common Matrices\n",
    "\\newcommand {\\A}{\\mat A} \n",
    "\\newcommand {\\B}{\\mat B}\n",
    "\\newcommand {\\X}{\\mat X} \n",
    "\\newcommand {\\Y}{\\mat Y}\n",
    "\\newcommand {\\I}{\\mat I} % Identity\n",
    "% Calculus\n",
    "\\newcommand {\\derive}[2]{\\frac{d#1}{d#2}}\n",
    "\\newcommand {\\ddx}{\\derive{}{x}}\n",
    "\\newcommand {\\dxdt}{\\derive{x}{t}}\n",
    "\\newcommand {\\dfdx}{\\derive{f}{x}}\n",
    "\\newcommand {\\del}{\\nabla}\n",
    "\\newcommand {\\hessian}{\\del^2}\n",
    "% Convex Optimizations\n",
    "\\newcommand \\convexcombo[2]{\\theta #1 + (1 - \\theta)#2}\n",
    "$\n",
    "For each of the following statements, determine TRUE or FALSE. If your answer is TRUE, then prove that statement. If your answer is FALSE, then give a counterexample."
   ]
  },
  {
   "cell_type": "markdown",
   "metadata": {
    "deletable": false,
    "editable": false,
    "run_control": {
     "frozen": true
    }
   },
   "source": [
    "##### (a) (10 points) Hyperbolic function $f(x_{1},x_{2}) = x_{1}x_{2}$ is quasiconcave on ${\\rm{dom}}(f) = \\mathbb{R}^{2}_{>0}$."
   ]
  },
  {
   "cell_type": "markdown",
   "metadata": {
    "heading_collapsed": true
   },
   "source": [
    "###### True. \n",
    "The Hessian of $f$ is \n",
    "\n",
    "$$ \\hessian f = \n",
    "\\begin{bmatrix} \n",
    "\\frac{\\partial^2f}{\\partial x_1^2} & \\frac{\\partial^2f}{\\partial x_1 \\partial x_2} \\\\\n",
    "\\frac{\\partial^2f}{\\partial x_1 \\partial x_2} &  \\frac{\\partial^2f}{\\partial x_2^2}\n",
    "\\end{bmatrix} = \n",
    "\\begin{bmatrix} 0 & 1 \\\\ 1 & 0 \\end{bmatrix}\n",
    "$$\n",
    "\n",
    "We then see that this matrix is positive definite in the region $\\positivereals^2$.\n",
    "\n",
    "$$ \\x\\trans \\begin{bmatrix}0 & 1 \\\\ 1 & 0 \\end{bmatrix} \\x = 2 x_1 x_2$$\n",
    "\n",
    "Which is positive for all $x_1, x_2 > 0$. \n",
    "Therefore $$f$$ is convex in $\\positivereals^2$."
   ]
  },
  {
   "cell_type": "markdown",
   "metadata": {
    "deletable": false,
    "editable": false,
    "run_control": {
     "frozen": true
    }
   },
   "source": [
    "##### (b) (10 points) Logistic function $f(x) = \\displaystyle\\frac{e^x}{1 + e^x}$ is log-concave on ${\\rm{dom}}(f) = \\mathbb{R}$."
   ]
  },
  {
   "cell_type": "markdown",
   "metadata": {},
   "source": [
    "**True**\n",
    "\n",
    "If $f$ is log-concave, then, by definition, $\\ln(f)$ is concave. \n",
    "\n",
    "$$\\begin{align}\n",
    "\\ln\\left(f(x)\\right) \n",
    "&= \\ln\\left(\\frac{e^x}{1+e^x}\\right) \\\\\n",
    "&= \\ln(e^x) - \\ln(1 + e^x) \\\\ \n",
    "&= x - \\ln(1 + e^x) \\\\ \n",
    "\\end{align}$$\n",
    "\n",
    "We test for concavity using the second-derivative: \n",
    "\n",
    "$$ \\begin{align}\n",
    "\\ddx \\left(x - \\ln(1 + e^x)\\right) &= 1 - \\frac{e^x}{1 + e^x} \\\\ \n",
    "&= \\frac{1}{1 + e^x} \\\\\n",
    "\\implies \\ddx \\left(\\dfdx\\right) &= \\ddx\\left(\\frac{1}{1 + e^x}\\right) \\\\\n",
    "&= -\\frac{e^x}{(1 + e^x)^2} \\\\\n",
    "& < 0\n",
    "\\end {align} $$\n",
    "\n",
    "Therefore the second derivative of $\\log(f)$ is always negative, so $f$ is log-concave. "
   ]
  },
  {
   "cell_type": "markdown",
   "metadata": {
    "deletable": false,
    "editable": false
   },
   "source": [
    "##### (c) (10 points) $f(x) = \\begin{cases}x &\\text{for}\\; x<0,\\\\ x+1 &\\text{for}\\; x>0,\\end{cases}$ is pseudo-convex but not quasiconvex on ${\\rm{dom}}(f) = \\mathbb{R}\\setminus\\{0\\}$."
   ]
  },
  {
   "cell_type": "markdown",
   "metadata": {},
   "source": [
    "**True.**\n",
    "\n",
    "The function $f$ is not quasiconvex because the $\\text{dom}(f)$ is not convex.\n",
    "\n",
    "*Proof that $f$ is pseudoconvex:*\n",
    "\n",
    "A \"function is pseudoconvex if it is increasing in any direction where the *Dini derivative* is positive\" ([Wikipedia](https://en.wikipedia.org/wiki/Pseudoconvex_function)).\n",
    "\n",
    "The Dini derivative of $f$ in one dimension is defined as:\n",
    "\n",
    "$$\n",
    "f^+(x, u) = \\limsup_{h\\to 0+} \\frac{f(x + h u) - f(x)}{h},\n",
    "$$ \n",
    "\n",
    "where $u = \\pm 1$."
   ]
  },
  {
   "cell_type": "markdown",
   "metadata": {},
   "source": [
    "For any $x<0$, there exists $h > 0$ such that $x+hu<0$, and similarly, for any $x>0$, there exists $h > 0$ such that $x+hu>0$. So, as the limit of $h\\to0^+$, at some point $h$ is smaller enough, so we can make the following simplification.\n",
    "\n",
    "$$ \\begin{align}\n",
    "f(x + hu) &=\n",
    "\\begin{cases}\n",
    "    x+hu, &\\for x + hu < 0 \\\\\n",
    "    x +hu + 1, &\\for x + hu> 0\n",
    "\\end{cases} \\\\ \n",
    "&= \n",
    "hu + \n",
    "\\begin{cases}\n",
    "    x, &\\for x < 0 \\\\\n",
    "    x+1, &\\for x > 0\n",
    "\\end{cases}\n",
    "\\end{align}$$"
   ]
  },
  {
   "cell_type": "markdown",
   "metadata": {},
   "source": [
    "We can then plug $f(x + hu)$ and $f(x)$ into the definition of the Dini derivative: \n",
    "\n",
    "$$ \\begin{align}\n",
    "f^+(x, u) &= \\limsup_{h\\to 0+} \\frac{f(x + h u) - f(x)}{h} \n",
    "\\\\\n",
    "&= \\limsup_{h\\to0+} \\left\\{ \n",
    "    \\frac{\n",
    "    hu + \n",
    "    \\begin{cases}\n",
    "        x,&\\for x < 0 \\\\\n",
    "        x+1,&\\for x > 0\n",
    "    \\end{cases}\n",
    "    -\n",
    "    \\begin{cases}\n",
    "        x,&\\for x < 0 \\\\\n",
    "        x + 1,&\\for x > 0\n",
    "    \\end{cases}\n",
    "    }{h}\n",
    "\\right\\} \n",
    "\\\\\n",
    "&= \\limsup_{h\\to0+} \\frac{hu}{h}\n",
    "\\\\\n",
    "&= u\n",
    "\\end{align}$$"
   ]
  },
  {
   "cell_type": "markdown",
   "metadata": {},
   "source": [
    "Therefore, the Dini derivative of $f$ is positive whenever $u$ is positive, so $f$ is pseudoconvex."
   ]
  },
  {
   "cell_type": "markdown",
   "metadata": {
    "deletable": false,
    "editable": false
   },
   "source": [
    "##### (d) (15 points) $f(X) = \\log X$ is operator monotone and operator concave on ${\\rm{dom}}(X) = \\mathbb{S}_{++}^{n}$."
   ]
  },
  {
   "cell_type": "markdown",
   "metadata": {},
   "source": [
    "**True**\n",
    "$\n",
    "%Note, both are true, according to Wikipedia page on operator convexity.\n",
    "\\newcommand \\D{\\mat D}\n",
    "\\newcommand \\exponentsum[1]{\\sum^\\infty_{k=1} \\frac{#1^k}{k!}}\n",
    "\\newcommand \\diagmatrix[2]{\n",
    "\\begin{bmatrix} \n",
    "#1 & & \\\\\n",
    "& \\ddots & \\\\\n",
    "& & #2 \\\\\n",
    "\\end{bmatrix}}$\n",
    "\n",
    "First, we will show that if $\\D \\in \\symmetricmatrices$ is a diagonal matrix, that $\\log(\\D)$ is the element-wise logarithm of $\\D$. To prove this, we take\n",
    "\n",
    "$$ \\D = \\diagmatrix{\\lambda_1}{\\lambda_n}\\quad \\text{and} \\quad \\A = e^\\D = \\exponentsum{\\D} $$\n",
    "\n",
    "Because $\\D$ is diagonal, the exponent can be distributed to each element:\n",
    "\n",
    "$$\\begin{align} \n",
    "A &= \\diagmatrix\n",
    "        {\\exponentsum{\\lambda_1}}\n",
    "        {\\exponentsum{\\lambda_n}} \\\\\n",
    "&= \\diagmatrix\n",
    "        {e^{\\lambda_1}}\n",
    "        {e^{\\lambda_n}\n",
    "} \\\\\n",
    "&= \\diagmatrix\n",
    "        {a_1}\n",
    "        {a_n}\n",
    "\\end{align}$$\n",
    "\n",
    "Therefore, we can conclude that $\\lambda_i = \\log(a_i)$. That is:\n",
    "\n",
    "$$ \\D = \\log(\\A) = \\diagmatrix{\\lambda_1}{\\lambda_n} = \\diagmatrix{\\log(a_1)}{\\log(a_n)}$$\n",
    "\n",
    "Now, take any $\\X, \\Y \\in \\pdmatrices$ such that $\\X \\prec \\Y$. We can diagonalize $X$ as \n",
    "\n",
    "$$ \\X = UDU\\invs \\implies \\log(\\X) = U\\log(D)U\\invs$$\n",
    "\n",
    "Similarly, we diagonalize $\\Y$ as \n",
    "\n",
    "$$\\Y = VEV \\invs \\implies \\log(\\X) = V \\log(E) V\\invs$$. "
   ]
  },
  {
   "cell_type": "markdown",
   "metadata": {},
   "source": [
    "Now, we consider the following\n",
    "\n",
    "\n",
    "$$\\begin{align}\n",
    "\\x\\trans(\\log(\\X))\\x \n",
    "&= \\x\\trans U\\log(D)U\\invs \\x \\\\\n",
    "&= \\u\\trans \\log(D) \\u && \\text{(where $\\u = U\\invs\\x\\trans $)}\\\\\n",
    "&= \\sum_{i=1}^n  \\log(\\lambda_{Xi}) u_i^2 && \\text{(where $\\lambda_{Xi}$ is the $i^{th}$ eigenvalue of $X$))}\\\\\n",
    "\\end{align}\n",
    "$$\n",
    "\n",
    "Similarly,\n",
    "\n",
    "$$\\begin{align}\n",
    "\\x\\trans(\\log(\\Y))\\x \n",
    "&= \\x\\trans V\\log(E)V\\invs \\x \\\\\n",
    "&= \\v\\trans \\log(E) \\v && \\text{(where $\\v = V\\invs\\x\\trans $)}\\\\\n",
    "&= \\sum_{i=1}^n  \\log(\\lambda_{Yi}) u_i^2 && \\text{(where $\\lambda_{Yi}$ is the $i^{th}$ eigenvalue of $Y$))}\\\\\n",
    "\\end{align}\n",
    "$$\n",
    "\n",
    "By the same process we get \n",
    "\n",
    "$$ \n",
    "\\x\\trans X \\x = \\sum^n_i \\lambda_{Xi} v_i^2 \n",
    "    \\quad \\text{and} \\quad \n",
    "\\x\\trans Y \\x = \\sum^n_i \\lambda_{Yi} u_i^2 \n",
    "$$\n",
    "\n",
    "If $X \\prec Y$, then \n",
    "\n",
    "$$\\sum^n_i \\lambda_{Xi} v_i^2 < \\sum^n_i \\lambda_{Yi} u_i^2$$\n",
    "\n",
    "Which means\n",
    "\n",
    "$$ \\sum_{i=1}^n  \\log(\\lambda_{Yi}) u_i^2 < \\sum_{i=1}^n  \\log(\\lambda_{Yi}) u_i^2 $$\n",
    "\n",
    "So $\\log(X) \\prec \\log(Y)$, therefore $f(X) = \\log(X)$ is operator monotone.  "
   ]
  },
  {
   "cell_type": "markdown",
   "metadata": {
    "deletable": false,
    "editable": false,
    "run_control": {
     "frozen": true
    }
   },
   "source": [
    "##### (e) (15 points) $f(X) = X^{-1}$ is operator monotone and operator convex on ${\\rm{dom}}(X) = \\mathbb{S}_{++}^{n}$."
   ]
  },
  {
   "cell_type": "markdown",
   "metadata": {},
   "source": [
    "**False**\n",
    "\n",
    "Take $I \\in \\pdmatrices[2]$ and $\\alpha > 1 \\in \\reals$. Clearly, the matrix $\\A = \\alpha I$ is in $\\pdmatrices[2]$ and $\\A \\succ I$. The inverse of $\\A$, however, is $\\A^{-1} = \\frac{1}{\\alpha}I \\prec I$, therefore $f(\\mat X)$ is not operator monotone. "
   ]
  },
  {
   "cell_type": "markdown",
   "metadata": {},
   "source": [
    "$% Note: see p. 110 in the book for discussion of operator convexity. \n",
    "$"
   ]
  }
 ],
 "metadata": {
  "kernelspec": {
   "display_name": "Python 3",
   "language": "python",
   "name": "python3"
  },
  "language_info": {
   "codemirror_mode": {
    "name": "ipython",
    "version": 3
   },
   "file_extension": ".py",
   "mimetype": "text/x-python",
   "name": "python",
   "nbconvert_exporter": "python",
   "pygments_lexer": "ipython3",
   "version": "3.6.4"
  }
 },
 "nbformat": 4,
 "nbformat_minor": 2
}
