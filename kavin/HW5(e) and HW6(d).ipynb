{
 "cells": [
  {
   "cell_type": "code",
   "execution_count": 7,
   "metadata": {},
   "outputs": [
    {
     "name": "stdout",
     "output_type": "stream",
     "text": [
      "optimal value: -1.0999999900754647\n",
      "optimal nu:\n",
      "[[0.40001561]\n",
      " [0.39999595]\n",
      " [0.20000215]\n",
      " [0.09998629]]\n"
     ]
    }
   ],
   "source": [
    "import numpy as np\n",
    "import cvxpy as cp\n",
    "\n",
    "n = 4\n",
    "W = [[0.1, 0.2, 0, 0.3], \n",
    "     [0.2, 0, 0.2, 0], \n",
    "     [0, 0.2, 0, 0], \n",
    "     [0.3, 0, 0, 0.2]]\n",
    "\n",
    "v = cp.Variable(n)\n",
    "objective = cp.Maximize(cp.sum_entries(-v))\n",
    "constraints = [W + cp.diag(v) >> 0]\n",
    "\n",
    "prob = cp.Problem(objective, constraints)\n",
    "result = prob.solve()\n",
    "\n",
    "print(\"optimal value: {}\".format(result))\n",
    "print(\"optimal nu:\")\n",
    "print(v.value)"
   ]
  },
  {
   "cell_type": "code",
   "execution_count": null,
   "metadata": {},
   "outputs": [],
   "source": [
    "import numpy as np\n",
    "import cvxpy as cp\n",
    "\n",
    "n = 2\n",
    "m = 5\n",
    "\n",
    "A = [[-3.6, -5.0, 1],\n",
    "     [-4.0, -3.4, 1],\n",
    "     [-3.0, -3.0, 1],\n",
    "     [-3.0, -4.0, 1],\n",
    "     [-5.0, -3.0, 1]]\n",
    "\n",
    "b = [-5.49, -5.3524, -4.1519, -4.5339, -6.4264]\n",
    "\n",
    "C = [[1, 0, 0], \n",
    "     [0, 1, 0], \n",
    "     [0, 0, 0]]\n",
    "\n",
    "d = [0, 0, 0.5]\n",
    "\n"
   ]
  }
 ],
 "metadata": {
  "kernelspec": {
   "display_name": "Python 3",
   "language": "python",
   "name": "python3"
  },
  "language_info": {
   "codemirror_mode": {
    "name": "ipython",
    "version": 3
   },
   "file_extension": ".py",
   "mimetype": "text/x-python",
   "name": "python",
   "nbconvert_exporter": "python",
   "pygments_lexer": "ipython3",
   "version": "3.6.4"
  }
 },
 "nbformat": 4,
 "nbformat_minor": 2
}
