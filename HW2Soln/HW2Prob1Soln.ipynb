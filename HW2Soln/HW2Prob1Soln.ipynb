{
 "cells": [
  {
   "cell_type": "markdown",
   "metadata": {},
   "source": [
    "# (Text exercises 2.21, 2.24, 2.25) Separating and supporting hyperplanes"
   ]
  },
  {
   "cell_type": "markdown",
   "metadata": {},
   "source": [
    "## The set of separating hyperplanes\n",
    "(10 points) Consider two disjoint sets $\\mathcal{C},\\mathcal{D} \\subseteq \\mathbb{R}^{n}$, they need not be convex. Consider the set of $(a,b)\\in\\mathbb{R}^{n+1}$ for which $a^{\\top}x \\leq b$, $\\forall\\:x\\in\\mathcal{C}$, and $a^{\\top}x \\geq b$, $\\forall\\:x\\in\\mathcal{D}$. Show that this set is a convex cone (which is the singleton $\\{0\\}$ if there is no hyperplane that separates $\\mathcal{C}$ and $\\mathcal{D}$)."
   ]
  },
  {
   "cell_type": "markdown",
   "metadata": {},
   "source": [
    "### Solution:\n",
    "The conditions $a^{\\top}x \\leq b$, $\\forall\\:x\\in\\mathcal{C}$, and $a^{\\top}x \\geq b$, $\\forall\\:x\\in\\mathcal{D}$, form a set of homogeneous linear inequalities in $(a,b)\\in\\mathbb{R}^{n+1}$, which means the map $(a,b) \\mapsto (\\alpha a,\\alpha b)$ leaves the set invariant for $\\alpha \\geq 0$. Therefore, this set of $(a,b)$ is a cone.\n",
    "\n",
    "This cone is an intersection of halfspaces that pass through the origin. Therefore, this is a convex cone. Notice that we do not need convexity of the sets $\\mathcal{C}, \\mathcal{D}$."
   ]
  },
  {
   "cell_type": "markdown",
   "metadata": {},
   "source": [
    "## Explicitly write convex set as intersection of halfspaces\n",
    "\n",
    "(5 points) Express the closed convex set $\\{x \\in \\mathbb{R}^{2}_{+} \\:\\mid\\: x_{1}x_{2} \\geq 1\\}$ as an intersection of halfspaces."
   ]
  },
  {
   "cell_type": "markdown",
   "metadata": {},
   "source": [
    "### Solution:\n",
    "This set is the intersection of all supporting halfspaces at points on its boundary, which is the set $\\{x \\in \\mathbb{R}^{2}_{+} \\:\\mid\\: x_{1}x_{2}=1\\}$. The supporting hyperplane at $x = (t,1/t)$ is given by \n",
    "$$x_{1}/t^{2} \\: + \\: x_{2} = 2/t,$$\n",
    "which means we can express the set as\n",
    "$$\\bigcap_{t>0} \\{x\\in\\mathbb{R}^{2} \\:\\mid\\: x_{1}/t^{2} \\: + \\: x_{2} = 2/t\\}.$$"
   ]
  },
  {
   "cell_type": "markdown",
   "metadata": {},
   "source": [
    "## Explicit computation of supporting hyperplanes\n",
    "\n",
    "(5 points) Let $\\mathcal{C}=\\{x\\in\\mathbb{R}^{n} \\:\\mid\\: \\parallel x \\parallel_{\\infty} \\:\\leq\\: 1\\}$, the $\\ell_{\\infty}$-norm unit ball in $\\mathbb{R}^{n}$, and let $\\widehat{x}$ be a point in the boundary of $\\mathcal{C}$. Identify the supporting hyperplanes of $\\mathcal{C}$ at $\\widehat{x}$ explicitly."
   ]
  },
  {
   "cell_type": "markdown",
   "metadata": {},
   "source": [
    "### Solution:\n",
    "We have $s^{\\top}x \\geq s^{\\top}\\widehat{x}$ for all $x\\in\\mathcal{C}$ if and only if\n",
    "$$s_{i}<0, \\quad \\widehat{x}_{i}=1,\\\\\n",
    "s_{i} >0, \\quad \\widehat{x}_{i}=-1,\\\\\n",
    "s_{i} =0, \\quad -1<\\widehat{x}_{i}<1.$$"
   ]
  },
  {
   "cell_type": "markdown",
   "metadata": {},
   "source": [
    "## Inner and outer polyhedral approximations\n",
    "(5 + 5 = 10 points) Let $\\mathcal{X} \\subseteq \\mathbb{R}^{n}$ be a closed convex set, and suppose that $x_{1}, ..., x_{K}$ are on the boundary of $\\mathcal{X}$. Suppose that for each $i\\in\\{1,...,K\\}$, the equation $a_{i}^{\\top}(x-x_{i}) = 0$ defines a supporting hyperplane for $\\mathcal{X}$ at $x_{i}$, i.e., $\\mathcal{X} \\subseteq \\{x \\in \\mathbb{R}^{n} \\:\\mid\\: a_{i}^{\\top}(x-x_{i}) \\leq 0\\}$. Now consider two polyhedra\n",
    "\n",
    "$$ \\mathcal{P}_{\\text{inner}} = {\\rm{conv}}\\{x_{1}, ..., x_{K}\\}, \\quad \\mathcal{P}_{\\text{outer}} = \\{x \\in \\mathbb{R}^{n} \\:\\mid\\: a_{i}^{\\top}(x-x_{i}) \\leq 0,\\; i=1,...,K\\}. $$\n",
    "\n",
    "Prove that $\\mathcal{P}_{\\text{inner}} \\subseteq \\mathcal{X} \\subseteq \\mathcal{P}_{\\text{outer}}$. Draw a picture illustrating this."
   ]
  },
  {
   "cell_type": "markdown",
   "metadata": {
    "collapsed": true
   },
   "source": [
    "### Solution:\n",
    "The points $x_{i}$ are in $\\mathcal{X}$ because $\\mathcal{X}$ is closed. Any point in $\\mathcal{P}_{\\text{inner}} = \\text{conv}\\{x_{1},...,x_{K}\\}$ is also in $\\mathcal{X}$ since $\\mathcal{X}$ is convex. Therefore, $\\mathcal{P}_{\\text{inner}} \\subseteq \\mathcal{X}$.\n",
    "\n",
    "On the other hand, if $x\\in\\mathcal{X}$, then $a_{i}^{\\top}(x-x_{i})\\leq 0$ for all $i=1,...,K$, that is, $x \\in \\mathcal{P}_{\\text{outer}}$. Therefore, $\\mathcal{X}\\subseteq \\mathcal{P}_{\\text{outer}}$.\n",
    "\n",
    "Below is a picture for $K=4$. The shaded region is the set $\\mathcal{X}$."
   ]
  },
  {
   "cell_type": "markdown",
   "metadata": {},
   "source": [
    "<img src=\"HW2p1fig.pdf\">"
   ]
  },
  {
   "cell_type": "code",
   "execution_count": null,
   "metadata": {
    "collapsed": true
   },
   "outputs": [],
   "source": []
  }
 ],
 "metadata": {
  "kernelspec": {
   "display_name": "Python 2",
   "language": "python",
   "name": "python2"
  },
  "language_info": {
   "codemirror_mode": {
    "name": "ipython",
    "version": 2
   },
   "file_extension": ".py",
   "mimetype": "text/x-python",
   "name": "python",
   "nbconvert_exporter": "python",
   "pygments_lexer": "ipython2",
   "version": "2.7.14"
  }
 },
 "nbformat": 4,
 "nbformat_minor": 2
}
