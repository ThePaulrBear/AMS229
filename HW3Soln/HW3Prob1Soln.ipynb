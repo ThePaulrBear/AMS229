{
 "cells": [
  {
   "cell_type": "markdown",
   "metadata": {},
   "source": [
    "# Support function\n",
    "\n",
    "The support function of any compact convex set $\\mathcal{X} \\subset \\mathbb{R}^{n}$ is defined as\n",
    "\n",
    "$$ h(y)  := \\sup_{x\\in\\mathcal{X}}\\:\\{x^{\\top}y \\:\\mid y\\in\\mathbb{R}^{n}\\},$$\n",
    "\n",
    "which can be geometrically interpreted as the perpendicular distane from the origin to the supporting hyperplane of $\\mathcal{X}$. Therefore, the support function uniquely determines a convex set."
   ]
  },
  {
   "cell_type": "markdown",
   "metadata": {},
   "source": [
    "(a) (10 points) Prove that $h(\\cdot)$ is a convex function of $y$. (Hint: think operations preserving function convexity)."
   ]
  },
  {
   "cell_type": "markdown",
   "metadata": {},
   "source": [
    "### Solution:\n",
    "The function $x^{\\top}y$ is linear (hence convex) in vector variable $y$. Since pointwise $\\sup$ of convex functions is convex, hence $h(y)$ is a convex function of $y$."
   ]
  },
  {
   "cell_type": "markdown",
   "metadata": {},
   "source": [
    "(b) (10 points) Identify the function $f(x)$ whose Legendre-Fenchel conjugate equals $h(y)$. Interpret your answer."
   ]
  },
  {
   "cell_type": "markdown",
   "metadata": {},
   "source": [
    "### Solution:\n",
    "Comparing the definition of $h(y)$ with the definition of the Legendre-Fenchel conjugate, it is evident that $h(y)$ is the Legendre-Fenchel conjugate of the indicator function of the set $\\mathcal{X}$, that is,\n",
    "$$h(y) = f^{*}(y), \\quad \\text{where} \\quad f(x) \\equiv \\mathbf{1}_{\\mathcal{X}}(x) := \\begin{cases}0 &\\text{if}\\;x\\in\\mathcal{X},\\\\\n",
    "+\\infty &\\text{otherwise}.\\end{cases}$$\n",
    "The interpretation is as follows. Since the indicator function uniquely describes the set, so does its conjugate. This **analytically** confirms the **geometric intuition** given in the question that the support function $h(y)$ uniquely describes a convex set."
   ]
  },
  {
   "cell_type": "markdown",
   "metadata": {},
   "source": [
    "(c) (10 points) Prove that ${\\rm{epi}}(h)$ is a convex cone. "
   ]
  },
  {
   "cell_type": "markdown",
   "metadata": {},
   "source": [
    "### Solution:\n",
    "Since $h(y)$ is a convex function of $y$ as proved in part (a), its epigraph must be a convex set. To prove that it is also a cone, we need to demonstrate that if $(y,t)\\in\\text{epi}(h)$, then $(\\alpha y, \\alpha t) \\in\\text{epi}(h)$ for all $\\alpha > 0$. We know:\n",
    "$$\\text{epi}(h) := \\{(y,t) \\:\\mid\\: y\\in\\mathbf{dom}(h), \\quad h(y)\\leq t\\} \\subset \\mathbb{R}^{n+1}.$$\n",
    "On the other hand, \n",
    "$$h(\\alpha y) = \\alpha \\sup_{x\\in\\mathcal{X}}\\:\\{x^{\\top}y \\:\\mid y\\in\\mathbb{R}^{n}\\} = \\alpha\\: h(y),\\quad\\text{i.e., support function is positive homogeneous of degree one.}$$\n",
    "Therefore, \n",
    "$$\\{(\\alpha y,\\alpha t) \\:\\mid\\: \\alpha y\\in\\mathbf{dom}(h), \\quad h(\\alpha y)\\leq \\alpha t, \\quad \\alpha > 0\\} = \\{(y,t) \\:\\mid\\: y\\in\\mathbf{dom}(h), \\quad h(y)\\leq t\\} = \\text{epi}(h).$$\n",
    "This proves that $\\text{epi}(h)$ is a cone. Since it is also convex, it is a convex cone."
   ]
  },
  {
   "cell_type": "markdown",
   "metadata": {},
   "source": [
    "(d) (10 points) Suppose two compact convex sets $\\mathcal{X}_{1},\\mathcal{X}_{2} \\subset \\mathbb{R}^{n}$ have support functions $h_{1}(\\cdot)$ and $h_{2}(\\cdot)$, respectively. Derive the support function $h(\\cdot)$ for the Minkowski sum $\\mathcal{X}_{1} + \\mathcal{X}_{2}$ (which is a convex set, as proved in Lecture 4, pg. 5 bottom). In other words, express $h(\\cdot)$ in terms of $h_{1}(\\cdot)$ and $h_{2}(\\cdot)$."
   ]
  },
  {
   "cell_type": "markdown",
   "metadata": {
    "collapsed": true
   },
   "source": [
    "### Solution:\n",
    "By definition, the Minkowski sum $$\\mathcal{X} := \\mathcal{X}_{1} + \\mathcal{X}_{2} := \\{x\\in\\mathbb{R}^{n} \\:\\mid\\: x = x_{1} + x_{2}, \\: x_{1} \\in \\mathcal{X}_{1} \\subset \\mathbb{R}^{n}, \\: x_{2} \\in \\mathcal{X}_{2}\\subset \\mathbb{R}^{n}\\}.$$ \n",
    "Therefore, its support function\n",
    "$$h(y) = \\sup_{x = (x_{1} + x_{2})\\in\\mathcal{X}}\\:\\{x^{\\top}y \\:\\mid y\\in\\mathbb{R}^{n}\\} = \\sup_{x_{1} \\in \\mathcal{X}_{1}, x_{2}\\in\\mathcal{X}_{2}}\\:\\{(x_{1} + x_{2})^{\\top}y \\:\\mid y\\in\\mathbb{R}^{n}\\} = \\sup_{x_{1} \\in \\mathcal{X}_{1}}\\:\\{x_{1}^{\\top}y \\:\\mid y\\in\\mathbb{R}^{n}\\} \\:+\\: \\sup_{x_{2}\\in\\mathcal{X}_{2}}\\:\\{x_{2}^{\\top}y \\:\\mid y\\in\\mathbb{R}^{n}\\} = h_{1}(y) + h_{2}(y).$$"
   ]
  },
  {
   "cell_type": "code",
   "execution_count": null,
   "metadata": {
    "collapsed": true
   },
   "outputs": [],
   "source": []
  }
 ],
 "metadata": {
  "kernelspec": {
   "display_name": "Python 2",
   "language": "python",
   "name": "python2"
  },
  "language_info": {
   "codemirror_mode": {
    "name": "ipython",
    "version": 2
   },
   "file_extension": ".py",
   "mimetype": "text/x-python",
   "name": "python",
   "nbconvert_exporter": "python",
   "pygments_lexer": "ipython2",
   "version": "2.7.14"
  }
 },
 "nbformat": 4,
 "nbformat_minor": 2
}
