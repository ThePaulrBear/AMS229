{
 "cells": [
  {
   "cell_type": "markdown",
   "metadata": {},
   "source": [
    "# Friends of convex\n",
    "\n",
    "For each of the following statements, determine TRUE or FALSE. If your answer is TRUE, then prove that statement. If your answer is FALSE, then give a counterexample."
   ]
  },
  {
   "cell_type": "markdown",
   "metadata": {},
   "source": [
    "(a) (10 points) Hyperbolic function $f(x_{1},x_{2}) = x_{1}x_{2}$ is quasiconcave on ${\\rm{dom}}(f) = \\mathbb{R}^{2}_{>0}$."
   ]
  },
  {
   "cell_type": "markdown",
   "metadata": {},
   "source": [
    "(b) (10 points) Logistic function $f(x) = \\displaystyle\\frac{\\exp(x)}{1 + \\exp(x)}$ is log-concave on ${\\rm{dom}}(f) = \\mathbb{R}$."
   ]
  },
  {
   "cell_type": "markdown",
   "metadata": {},
   "source": [
    "(c) (10 points) $f(x) = \\begin{cases}x &\\text{for}\\; x<0,\\\\ x+1 &\\text{for}\\; x>0,\\end{cases}$ is pseudo-convex but not quasiconvex on ${\\rm{dom}}(f) = \\mathbb{R}\\setminus\\{0\\}$."
   ]
  },
  {
   "cell_type": "markdown",
   "metadata": {},
   "source": [
    "(d) (15 points) $f(X) = \\log X$ is operator monotone and operator concave on ${\\rm{dom}}(X) = \\mathbb{S}_{++}^{n}$."
   ]
  },
  {
   "cell_type": "markdown",
   "metadata": {},
   "source": [
    "(e) (15 points) $f(X) = X^{-1}$ is operator monotone and operator convex on ${\\rm{dom}}(X) = \\mathbb{S}_{++}^{n}$."
   ]
  },
  {
   "cell_type": "code",
   "execution_count": null,
   "metadata": {
    "collapsed": true
   },
   "outputs": [],
   "source": []
  }
 ],
 "metadata": {
  "kernelspec": {
   "display_name": "Python 2",
   "language": "python",
   "name": "python2"
  },
  "language_info": {
   "codemirror_mode": {
    "name": "ipython",
    "version": 2
   },
   "file_extension": ".py",
   "mimetype": "text/x-python",
   "name": "python",
   "nbconvert_exporter": "python",
   "pygments_lexer": "ipython2",
   "version": "2.7.14"
  }
 },
 "nbformat": 4,
 "nbformat_minor": 2
}
