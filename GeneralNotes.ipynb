{
 "cells": [
  {
   "cell_type": "markdown",
   "metadata": {
    "heading_collapsed": true
   },
   "source": [
    "## Homework"
   ]
  },
  {
   "cell_type": "markdown",
   "metadata": {
    "heading_collapsed": true,
    "hidden": true
   },
   "source": [
    "### First time\n",
    "1. Click on any to see the problem as static html page. In each of the resulting html pages, top right corner, right click the down arrow sign, and save the respective file as .ipynb.\n",
    "2. Install Jupyter Notebook in your computer: http://jupyter.org/install (assumes python is already installed). If you're using mac/unix, python usually comes pre-installed. You can also do the following from terminal: \n",
    "sudo easy_install jupyter\n",
    "\n",
    "### Do Homework\n",
    "3. Once installed, simply run the following command from terminal:\n",
    "jupyter notebook\n",
    "You should see the notebook dashboard open in your computer's default web browser. From there, simply click on the downloaded .ipynb file to open/edit it.\n",
    "4. Type your solution as \"Solution cells\" below the respective \"Question cells\" (Insert > Insert Cell Below). In the menu option, you will see a dropdown that lets you select code/markdown etc. Select Markdown there. Then you can type inline math within single dollar sign (as in latex), newline math within double dollar sign. You can click on question cells to get the idea. Execute any cell by pressing Shift + Return.\n",
    "\n",
    "### Submission\n",
    "5. Once you finish typing the solutions below the questions, save each of your 3 notebooks as ```YourLastnameYourFirstnameInitial_Sol_HW1Prob1.ipynb``` etc. (for example, for my name, HalderA_Sol_HW1Prob1.ipynb).\n",
    "        WintzP_Sol_HW#Prob#.ipynb\n",
    "6. Send all your 3 solution notebooks inside single zipped folder ```YourLastnameYourFirstnameInitial_AMS229F18_HW1.zip``` via e-mail attachment to me (ahalder@ucsc.edu).\n",
    "        WintzP_AMS229F18_HW#.zip\n",
    "P.S. If needed, you can insert local image file in your markdown cell as either \n",
    "        <img src=\"imagename.png\"> or ![alt text](imagename.png \"Title\")\n",
    "You can solve Problem 1 and Problem 2 with what we have covered till now. Please go through the relevant portions in textbook Chapter 2, to complement the class notes. The material needed to solve Problem 3 will be covered on next Tuesday. So for Problem 3, you can hold on till then or if you'd like, go ahead and read the relevant material in text.\n",
    "If you are having issues about .ipynb files ask your friends first and/or look up in the web. Many of your classmates are already quite familiar with these files, and they may be able to fix you fast. Of course, if issues continue to exist, send me an email."
   ]
  },
  {
   "cell_type": "markdown",
   "metadata": {},
   "source": [
    "##  Questions for Abishek"
   ]
  },
  {
   "cell_type": "markdown",
   "metadata": {},
   "source": [
    "* The end of HW# problem #1 [Hadamard product](http://localhost:8888/notebooks/Google%20Drive/UCSC/Fall%202018/ams229/HW1/WintzP_Sol_HW1Prob1.ipynb#Solution-from-Abhishek:).\n",
    "* Addition of addition of supremums in homework 3, problem 1. \n",
    "* How do you actually calculate a Hessian?\n",
    "* How do you use the Schur Lemma\n"
   ]
  },
  {
   "cell_type": "markdown",
   "metadata": {},
   "source": [
    "# Topics to learn \n",
    "* Minowski Sum\n",
    "* Positive Definite Matrix properties\n",
    "    * All eigenvalues are all positives. \n",
    "* Schur Complement Lemma\n",
    "* Jacobi's Formula\n",
    "    * This is the following formula:\n",
    "    $$ \\det(\\exp(X) = e^{trace(X)}$$ \n",
    "* Directional derivatives of matrices. "
   ]
  },
  {
   "cell_type": "markdown",
   "metadata": {},
   "source": [
    "## Methods for showing convexity of functions"
   ]
  }
 ],
 "metadata": {
  "kernelspec": {
   "display_name": "Python 3",
   "language": "python",
   "name": "python3"
  },
  "language_info": {
   "codemirror_mode": {
    "name": "ipython",
    "version": 3
   },
   "file_extension": ".py",
   "mimetype": "text/x-python",
   "name": "python",
   "nbconvert_exporter": "python",
   "pygments_lexer": "ipython3",
   "version": "3.6.4"
  }
 },
 "nbformat": 4,
 "nbformat_minor": 2
}
