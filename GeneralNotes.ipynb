{
 "cells": [
  {
   "cell_type": "markdown",
   "metadata": {
    "heading_collapsed": true
   },
   "source": [
    "## Homework"
   ]
  },
  {
   "cell_type": "markdown",
   "metadata": {
    "heading_collapsed": true,
    "hidden": true
   },
   "source": [
    "### First time\n",
    "1. Click on any to see the problem as static html page. In each of the resulting html pages, top right corner, right click the down arrow sign, and save the respective file as .ipynb.\n",
    "2. Install Jupyter Notebook in your computer: http://jupyter.org/install (assumes python is already installed). If you're using mac/unix, python usually comes pre-installed. You can also do the following from terminal: \n",
    "sudo easy_install jupyter\n",
    "\n",
    "### Do Homework\n",
    "3. Once installed, simply run the following command from terminal:\n",
    "jupyter notebook\n",
    "You should see the notebook dashboard open in your computer's default web browser. From there, simply click on the downloaded .ipynb file to open/edit it.\n",
    "4. Type your solution as \"Solution cells\" below the respective \"Question cells\" (Insert > Insert Cell Below). In the menu option, you will see a dropdown that lets you select code/markdown etc. Select Markdown there. Then you can type inline math within single dollar sign (as in latex), newline math within double dollar sign. You can click on question cells to get the idea. Execute any cell by pressing Shift + Return.\n",
    "\n",
    "### Submission\n",
    "5. Once you finish typing the solutions below the questions, save each of your 3 notebooks as ```YourLastnameYourFirstnameInitial_Sol_HW1Prob1.ipynb``` etc. (for example, for my name, HalderA_Sol_HW1Prob1.ipynb).\n",
    "        WintzP_Sol_HW#Prob#.ipynb\n",
    "6. Send all your 3 solution notebooks inside single zipped folder ```YourLastnameYourFirstnameInitial_AMS229F18_HW1.zip``` via e-mail attachment to me (ahalder@ucsc.edu).\n",
    "        WintzP_AMS229F18_HW#.zip\n",
    "P.S. If needed, you can insert local image file in your markdown cell as either \n",
    "        <img src=\"imagename.png\"> or ![alt text](imagename.png \"Title\")\n",
    "You can solve Problem 1 and Problem 2 with what we have covered till now. Please go through the relevant portions in textbook Chapter 2, to complement the class notes. The material needed to solve Problem 3 will be covered on next Tuesday. So for Problem 3, you can hold on till then or if you'd like, go ahead and read the relevant material in text.\n",
    "If you are having issues about .ipynb files ask your friends first and/or look up in the web. Many of your classmates are already quite familiar with these files, and they may be able to fix you fast. Of course, if issues continue to exist, send me an email."
   ]
  },
  {
   "cell_type": "markdown",
   "metadata": {},
   "source": [
    "##  Questions for Abishek"
   ]
  },
  {
   "cell_type": "markdown",
   "metadata": {},
   "source": [
    "* Chebyshev center"
   ]
  },
  {
   "cell_type": "markdown",
   "metadata": {},
   "source": [
    "# Topics to learn \n",
    "* Minowski Sum\n",
    "* Positive Definite Matrix properties\n",
    "    * All eigenvalues are all positives. \n",
    "* Schur Complement Lemma\n",
    "* Jacobi's Formula\n",
    "    * This is the following formula:\n",
    "    $$ \\det(\\exp(X) = e^{trace(X)}$$ \n",
    "* Directional derivatives of matrices. \n",
    "\n",
    "\n"
   ]
  },
  {
   "cell_type": "markdown",
   "metadata": {},
   "source": [
    "## Methods for showing convexity of functions"
   ]
  },
  {
   "cell_type": "code",
   "execution_count": 1,
   "metadata": {},
   "outputs": [],
   "source": [
    "# Choose two (distant) values on either side of expected range values\n",
    "def minimize(f, expected_range, delta):\n",
    "    # Implmented using a bisection algorithm.\n",
    "    x_left_start = expected_range[0]\n",
    "    x_right_start = expected_range[1]\n",
    "    x1 = x_left_start\n",
    "    x2 = x_right_start\n",
    "    \n",
    "    for n in range(100):\n",
    "        mid = (x1 + x2 ) / 2.0\n",
    "        nu1 = (x1 + mid) / 2.0\n",
    "        nu2 = (mid+ x2 ) / 2.0\n",
    "        \n",
    "        middle_is_at_boundary = abs(mid - x_left_start) < delta or abs(mid - x_right_start) < delta\n",
    "        if middle_is_at_boundary:\n",
    "            raise Exception(\"Minimum point not found in region: \" + str(expected_range))\n",
    "            \n",
    "        minimum_is_in_left = f(nu1) < f(nu2)\n",
    "        if minimum_is_in_left:\n",
    "            if abs(x2 - mid) < delta:\n",
    "                return mid\n",
    "            x2 = mid\n",
    "        else:\n",
    "            if abs(x1 - mid) < delta:\n",
    "                return mid\n",
    "            x1 = mid\n",
    "            \n",
    "        print(mid)\n",
    "            \n",
    "    raise Exception(\"Convergence was not acheived in 100 iterations\")"
   ]
  },
  {
   "cell_type": "code",
   "execution_count": 2,
   "metadata": {},
   "outputs": [],
   "source": [
    "# Here we deine a function that will print a numpy matrix as a latex matrix\n",
    "from IPython.display import display, Markdown, Latex\n",
    "\n",
    "def display_matrix(A, label=None, format='%g'): # Returns the latex code\n",
    "    # 'A' is a numpy matrix\n",
    "    # 'label' is an optional label that will printed before the matrix, with a '=' between.\n",
    "    # 'format' is the string format of each element\n",
    "    # Example usage:    \n",
    "    # display_matrix(A, \"$A$\", format='%.2g');    \n",
    "    # display_matrix(d, format=\"%.4g\");\n",
    "    # Written by Paul Wintz, November 2018.\n",
    "    \n",
    "    row_delimiter = \" \\\\\\\\ \"\n",
    "    column_delimiter = \" & \"\n",
    "    rows = []\n",
    "    \n",
    "    for i in range(A.shape[0]):\n",
    "        row = A[i]\n",
    "        # generate an array with strings\n",
    "        row_arrstr = np.char.mod(format, row)\n",
    "        #combine to a string\n",
    "        rows.append(column_delimiter.join(row_arrstr))\n",
    "\n",
    "    latex = '$\\\\begin{bmatrix}%s\\\\end{bmatrix}$'%(row_delimiter.join(rows))\n",
    "    display(Markdown((label + \" $=$ \" if label else \"\") + latex ))\n",
    "    return latex"
   ]
  }
 ],
 "metadata": {
  "kernelspec": {
   "display_name": "Python 3",
   "language": "python",
   "name": "python3"
  },
  "language_info": {
   "codemirror_mode": {
    "name": "ipython",
    "version": 3
   },
   "file_extension": ".py",
   "mimetype": "text/x-python",
   "name": "python",
   "nbconvert_exporter": "python",
   "pygments_lexer": "ipython3",
   "version": "3.6.4"
  }
 },
 "nbformat": 4,
 "nbformat_minor": 2
}
