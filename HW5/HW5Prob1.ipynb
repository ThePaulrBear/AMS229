{
 "cells": [
  {
   "cell_type": "markdown",
   "metadata": {},
   "source": [
    "# Max-cut problem$ \n",
    "% Text formating\n",
    "\\newcommand {\\th}{^{th}} % for ith, jth, etc. \n",
    "% General Latex Definitions\n",
    "\\newcommand {\\vec}{\\mathbf} % Vector variable\n",
    "\\newcommand {\\mat}{} % Matrix variable\n",
    "\\newcommand {\\set}{\\mathcal} % Set name\n",
    "\\newcommand{\\invs}{^{-1}}\n",
    "\\newcommand{\\trans}{^ \\top} % Vector or matrix transpose notation (\\intercal is an alternative)\n",
    "\\newcommand{\\suchthat}{\\mid} %Alternative: \\mathrel{} \\middle| \\mathrel{} \n",
    "\\newcommand {\\definedas}{:=}\n",
    "\\newcommand {\\arctan}{\\text{tan}^{-1}}\n",
    "\\newcommand {\\abs}[1]{|#1|}\n",
    "\\newcommand {\\innerproduct}[2]{\\langle #1, #2 \\rangle}\n",
    "\\newcommand {\\for}{\\text{for}\\;}\n",
    "\\newcommand {\\and}{\\quad \\text{and}\\quad}\n",
    "\\newcommand {\\norm}[1]{\\left\\lVert#1\\right\\rVert}\n",
    "\\newcommand {\\onenorm}[1]{\\norm{#1}_{1}}\n",
    "\\newcommand {\\twonorm}[1]{\\norm{#1}_{2}}\n",
    "\\newcommand {\\pnorm}[1]{\\norm{#1}_{p}}\n",
    "\\newcommand {\\inftynorm}[1]{\\norm{#1}_{\\infty}}\n",
    "% Sets\n",
    "\\newcommand {\\reals}{\\mathbb{R}}\n",
    "\\newcommand {\\realsn}{\\reals^{n}}\n",
    "\\newcommand {\\positivereals}{\\reals_{>0}}\n",
    "\\newcommand {\\integers}{\\mathbb{Z}}\n",
    "\\newcommand \\squarematrices[1][n]{\\reals^{#1 \\times #1}}\n",
    "\\newcommand \\symmetricmatrices[1][n]{\\mathbb{S}^{#1}}\n",
    "\\newcommand \\pdmatrices[1][n]{\\symmetricmatrices[#1]_{++}}\n",
    "\\newcommand \\psdmatrices[1][n]{\\symmetricmatrices[#1]_{+}}\n",
    "% Common vectors. If a value is a variable don't use the \"\\\"\n",
    "\\newcommand {\\x}{\\vec x}\n",
    "\\newcommand {\\y}{\\vec y} \n",
    "\\newcommand {\\u}{\\vec u}\n",
    "\\newcommand {\\v}{\\vec v}\n",
    "\\newcommand {\\onevec}{\\mathbb{1}}\n",
    "% Common Matrices\n",
    "\\newcommand {\\A}{\\mat A} \n",
    "\\newcommand {\\B}{\\mat B}\n",
    "\\newcommand {\\X}{\\mat X} \n",
    "\\newcommand {\\Y}{\\mat Y}\n",
    "\\newcommand {\\I}{\\mat I} % Identity\n",
    "% Matrix shortcut\n",
    "\\newcommand {\\beginmatrix}{\\begin{bmatrix}}\n",
    "\\newcommand {\\endmatrix}{\\end{bmatrix}}\n",
    "\\newcommand {\\beginalign}{\\begin{align}}\n",
    "\\newcommand {\\endalign}{\\end{align}}\n",
    "% Calculus\n",
    "\\newcommand {\\derive}[2]{\\frac{d#1}{d#2}}\n",
    "\\newcommand {\\ddx}{\\derive{}{x}}\n",
    "\\newcommand {\\ddt}{\\derive{}{t}}\n",
    "\\newcommand {\\dxdt}{\\derive{x}{t}}\n",
    "\\newcommand {\\dydt}{\\derive{y}{t}}\n",
    "\\newcommand {\\dfdx}{\\derive{f}{x}}\n",
    "\\newcommand {\\del}{\\nabla}\n",
    "\\newcommand {\\hessian}{\\del^2}\n",
    "% Convex Optimizations\n",
    "\\newcommand \\convexcombo[2]{\\theta #1 + (1 - \\theta)#2}\n",
    "\\newcommand \\minimize[1]{\\underset{#1}{\\text{minimize}}\\quad} % Usage: \\minimize{\\x \\in \\reals}\n",
    "\\newcommand {\\subjectto}{\\text{subject to}\\quad}\n",
    "% Exponent Taylor Series Definition\n",
    "\\newcommand \\exponentsum[1]{\\sum^\\infty_{k=1} \\frac{#1^k}{k!}}\n",
    "% Matrix shortcuts\n",
    "\\newcommand \\diagmatrix[2]{\n",
    "\\begin{bmatrix} \n",
    "#1 & & \\\\\n",
    "& \\ddots & \\\\\n",
    "& & #2 \\\\\n",
    "\\end{bmatrix}}\n",
    "% Brackets and parentheses.\n",
    "\\newcommand {\\(}{\\left(}\n",
    "\\newcommand {\\)}{\\right)}\n",
    "\\newcommand {\\}}{\\right\\}}\n",
    "\\newcommand {\\{}{\\left\\{}\n",
    "$"
   ]
  },
  {
   "cell_type": "markdown",
   "metadata": {},
   "source": [
    "An undirected graph $\\mathscr{G} = (\\mathcal{V},\\mathcal{E})$ is defined as a collection of two sets: a set of vertices $\\mathcal{V}$, and a set of edges $\\mathcal{E}$. If there is an edge $e_{ij}\\in\\mathcal{E}$ connecting the vertices $v_{i},v_{j}\\in\\mathcal{V}$, then we can assign an weight $w_{ij} \\geq 0$ to that edge to model the relative importance of that particular edge. Assuming the cardinality of the vertex set $|\\mathcal{V}|=n$ , we normalize the weights as $\\sum_{i,j=1}^{n}w_{ij} = 1$. This gives rise to a weighted directed graph $\\mathscr{G}_{W} = (\\mathcal{V},\\mathcal{E},W)$ where the edge weight matrix $W\\in\\mathbb{R}^{n\\times n}$ is symmetric with elements in $[0,1]$.\n",
    "\n",
    "A \"cut\" in $\\mathscr{G}_{W}$ is simply a partition of the vertex set $\\mathcal{V}$ into two (disjoint) sets: $\\mathcal{S}$ and its complement $\\overline{\\mathcal{S}}:=\\mathcal{V}\\setminus\\mathcal{S}$, that is, $\\mathcal{V}=\\mathcal{S}\\cup\\overline{\\mathcal{S}}$. The \"weight of a cut\" is the sum of weights for those (and only those) edges which connect vertices in $\\mathcal{S}$ to vertices in $\\overline{\\mathcal{S}}$. The \"max-cut problem\" concerns with finding a cut in $\\mathscr{G}_{W}$ that maximizes the weight of cut. \n",
    "\n",
    "In the following example graph with $n=4$ vertices, the \"red solid\" cut is the max-cut (cut weight = 0.7), while the \"blue dashed\" cut is sub-optimal (cut-weight = 0.5). In this example, the red max-cut corresponds to the partition $\\mathcal{V} = \\{v_{1},v_{3}\\} \\cup \\{v_{2},v_{4}\\}$. The sub-optimal blue cut corresponds to the partition $\\mathcal{V} = \\{v_{1},v_{2}\\} \\cup \\{v_{3},v_{4}\\}$.\n",
    "\n",
    "<img width=\"450\" src=\"maxcut.png\">"
   ]
  },
  {
   "cell_type": "markdown",
   "metadata": {},
   "source": [
    "## (a) (5+5=10 points) "
   ]
  },
  {
   "cell_type": "markdown",
   "metadata": {},
   "source": [
    "To formulate the max-cut problem as an optimization problem, let us consider any cut $\\mathcal{V}=\\mathcal{S}\\cup\\overline{\\mathcal{S}}$, and for $i=1,...,n$, assign a variable $x_{i}$ to each vertex of $\\mathscr{G}_{W} = (\\mathcal{V},\\mathcal{E},W)$, as\n",
    "\n",
    "$$x_{i} = \\begin{cases} \n",
    "1 & \\text{if}\\quad v_{i}\\in\\mathcal{S},\\\\\n",
    "-1 & \\text{if}\\quad v_{i}\\in\\overline{\\mathcal{S}}.\n",
    "\\end{cases}$$\n",
    "\n",
    "Next, notice that \n",
    "\n",
    "$$(1-x_{i}x_{j}) = \\begin{cases} \n",
    "0 & \\text{if the vertices $v_{i}$ and $v_{j}$ are in the same set}\\\\\n",
    "2 & \\text{otherwise}\n",
    "\\end{cases}$$\n",
    "\n",
    "Therefore, the quantity $\\sum_{i<j}w_{ij}(1-x_{i}x_{j})$ is twice the cut weight, and hence the max-cut problem is\n",
    "\n",
    "$$\\begin{aligned}\n",
    "p^{*} := \\underset{x\\in\\{-1,+1\\}^{n}}{\\text{maximize}}\\quad\\displaystyle\\frac{1}{2}\\displaystyle\\sum_{i<j}w_{ij}\\left(1-x_{i}x_{j}\\right).\n",
    "\\end{aligned}$$"
   ]
  },
  {
   "cell_type": "markdown",
   "metadata": {},
   "source": [
    "### Explain why the above max-cut problem is equivalent to solving\n",
    "\n",
    "$$\\underset{x\\in\\{-1,+1\\}^{n}}{\\text{minimize}}\\quad x^{\\top}W x.$$"
   ]
  },
  {
   "cell_type": "markdown",
   "metadata": {
    "heading_collapsed": true
   },
   "source": [
    "#### Solution"
   ]
  },
  {
   "cell_type": "markdown",
   "metadata": {
    "hidden": true
   },
   "source": [
    "Positive scaling preserves convexity.\n",
    "$\\sum_{i,j=1}^n w_{ij} = 1$, so it is constant, therefore the problem reduces to \n",
    "\n",
    "$$\\sum -w_{ij} x_i x_j = -\\sum x_i w_{ij} x_j = $$. \n",
    "\n",
    "If $i = 1, \\dots, n$ and $j = 1, \\dots, n$, then the sum would reduce to $\\x\\trans W \\x$, but the indices are actually $i = 1, \\dots, j-1$.\n",
    "\n",
    "Note, however, that \n",
    "$$\\beginalign \n",
    "\\x\\trans W \\x \n",
    "&= \\sum_{i,j=1}^nx_i w_{ij} x_j \\\\\n",
    "&= \\sum_{i \\lt j}x_i w_{ij} x_j + \\sum_{i=j} x_i w_{ij} x_j + \\sum_{i \\gt j}x_i w_{ij} x_j \\\\\n",
    "&= 2\\sum_{i \\lt j}x_i w_{ij} x_j + \\sum_{i=j} x_i w_{ij} x_j \\\\\n",
    "&= 2\\sum_{i \\lt j}x_i w_{ij} x_j\n",
    "\\endalign $$. \n",
    "\n",
    "The solution of the problem does not change depending on the values of $w_{ii}$, because it represents the weight of the edge of a node to itself. Mathematically, \n",
    "\n",
    "$$ \\sum_{i=j} x_i w_{ij} x_j = \\sum_{i} x_i w_{ii} x_i = 0$$\n",
    "\n",
    "TODO Cleanup argument..."
   ]
  },
  {
   "cell_type": "markdown",
   "metadata": {},
   "source": [
    "### Is this optimization problem convex? Why/why not? \n",
    "\n",
    "(Hint: $\\frac{1}{2}\\sum_{i<j}w_{ij}(1-x_{i}x_{j}) = \\frac{1}{4}\\sum_{i,j}w_{ij}(1-x_{i}x_{j})$.)"
   ]
  },
  {
   "cell_type": "markdown",
   "metadata": {},
   "source": [
    "#### Solution"
   ]
  },
  {
   "cell_type": "markdown",
   "metadata": {},
   "source": [
    "No, because the domain $\\{-1, +1\\}^n$ is not convex."
   ]
  },
  {
   "cell_type": "markdown",
   "metadata": {},
   "source": [
    "## (b) (15 points) "
   ]
  },
  {
   "cell_type": "markdown",
   "metadata": {},
   "source": [
    "Although the constraint set of the optimization problem derived in part (a) is finite, it has cardinality $2^{n}$, and therefore, it is computationally impractical to take enumerative approach to solve it for large $n$. In fact, this optimization problem is known to be NP hard.\n",
    "\n",
    "Derive the Lagrangian, the Lagrange dual function, and the dual optimization problem for the primal problem obtained in part (a)."
   ]
  },
  {
   "cell_type": "markdown",
   "metadata": {
    "deletable": false,
    "editable": false,
    "run_control": {
     "frozen": true
    }
   },
   "source": [
    "### Solution"
   ]
  },
  {
   "cell_type": "markdown",
   "metadata": {},
   "source": [
    "We can restate the equality constraint as $h_i(\\x)= \\abs{x_i} - 1= 0$\n",
    "\n",
    "Lagrangian: \n",
    "\n",
    "$$ \\beginalign \n",
    "L(\\x, \\vec \\lambda, \\vec \\nu) \n",
    "&= f_o(\\x) + \\innerproduct{\\vec \\nu}{\\vec h(\\x)} \\\\\n",
    "&= \\x \\trans W \\x + \\sum_{i=1}^n \\nu_i (\\abs{x_i} - 1) \\\\\n",
    "&= \\x \\trans W \\x + \\sum_{i=1}^n \\nu_i \\abs{x_i} - \\nu_i \n",
    "\\endalign $$\n",
    "\n",
    "The Lagrange dual function\n",
    "\n",
    "$$\\beginalign g(\\vec \\nu) \n",
    "&\\definedas \\inf_{\\x} L(\\x, \\vec \\nu) \\\\\n",
    "&= \\inf_{\\x} \\left(\\x \\trans W \\x + \\sum v_i(\\abs{x_i}-1)\\right)\\endalign$$\n",
    "\n",
    "...\n",
    "\n",
    "$$\n",
    "\\{ \\( \\( \\sum \\) \\)\\}\n",
    "$$"
   ]
  },
  {
   "cell_type": "markdown",
   "metadata": {
    "deletable": false,
    "editable": false,
    "run_control": {
     "frozen": true
    }
   },
   "source": [
    "## (c) (10 points) "
   ]
  },
  {
   "cell_type": "markdown",
   "metadata": {},
   "source": [
    "Use the Lagrange dual function derived in part (b) to provide a **simple sub-optimal** (meaning, not the tightest) bound for $p^{*}$ in part (a)."
   ]
  },
  {
   "cell_type": "markdown",
   "metadata": {},
   "source": [
    "### Solution"
   ]
  },
  {
   "cell_type": "markdown",
   "metadata": {},
   "source": []
  },
  {
   "cell_type": "markdown",
   "metadata": {
    "deletable": false,
    "editable": false,
    "run_control": {
     "frozen": true
    }
   },
   "source": [
    "## (d) (10 points)"
   ]
  },
  {
   "cell_type": "markdown",
   "metadata": {},
   "source": [
    "Is the dual problem derived in part (b) a convex optimization problem? If \"yes\", then what kind of convex optimization problem is it? If \"no\", then explain why not. "
   ]
  },
  {
   "cell_type": "markdown",
   "metadata": {},
   "source": [
    "### Solution"
   ]
  },
  {
   "cell_type": "markdown",
   "metadata": {},
   "source": [
    "Yes, dual problems are always convex. \n",
    "\n",
    "It is a ... problem."
   ]
  },
  {
   "cell_type": "markdown",
   "metadata": {
    "deletable": false,
    "editable": false,
    "run_control": {
     "frozen": true
    }
   },
   "source": [
    "## (e) (15+5=20 points)"
   ]
  },
  {
   "cell_type": "markdown",
   "metadata": {},
   "source": [
    "For the example graph with 4 vertices given above, write a code using cvxpy, to solve the dual problem. You need to write the code in your solution notebook. Use the answer of your cvxpy code to write an inequality for $p^{*}$ in part (a).\n",
    "\n",
    "(Hint: Weak duality.)"
   ]
  },
  {
   "cell_type": "markdown",
   "metadata": {},
   "source": [
    "### Solution"
   ]
  },
  {
   "cell_type": "markdown",
   "metadata": {},
   "source": []
  },
  {
   "cell_type": "code",
   "execution_count": 1,
   "metadata": {},
   "outputs": [],
   "source": [
    "from cvxpy import *\n",
    "x = Variable(n)\n",
    "cost = "
   ]
  },
  {
   "cell_type": "markdown",
   "metadata": {
    "collapsed": true
   },
   "source": [
    "## (f) (5+5+10=20 points)"
   ]
  },
  {
   "cell_type": "markdown",
   "metadata": {
    "collapsed": true
   },
   "source": [
    "Let us now go back to the problem derived in part (a):\n",
    "\n",
    "$$\\underset{x\\in\\{-1,+1\\}^{n}}{\\text{minimize}}\\quad x^{\\top}W x.$$\n",
    "\n",
    "**Prove that the above optimization problem can be re-written as**\n",
    "\n",
    "$$\\begin{aligned}\n",
    "&\\underset{X\\in\\mathbb{S}^{n}_{+}}{\\text{minimize}}\\quad \\text{trace}\\left(WX\\right)\\\\\n",
    "&\\text{subject to}\\quad X_{ii} = 1,\\quad i=1,...,n,\\\\\n",
    "& \\qquad\\qquad\\; \\text{rank}(X) = 1.\n",
    "\\end{aligned}$$"
   ]
  },
  {
   "cell_type": "markdown",
   "metadata": {
    "deletable": false,
    "editable": false,
    "run_control": {
     "frozen": true
    }
   },
   "source": [
    "#### Solution"
   ]
  },
  {
   "cell_type": "markdown",
   "metadata": {},
   "source": []
  },
  {
   "cell_type": "markdown",
   "metadata": {
    "collapsed": true,
    "deletable": false,
    "editable": false,
    "run_control": {
     "frozen": true
    }
   },
   "source": [
    "**Is the above re-written optimization problem convex? Why/why not?**"
   ]
  },
  {
   "cell_type": "markdown",
   "metadata": {
    "deletable": false,
    "editable": false,
    "run_control": {
     "frozen": true
    }
   },
   "source": [
    "#### Solution"
   ]
  },
  {
   "cell_type": "markdown",
   "metadata": {},
   "source": []
  },
  {
   "cell_type": "markdown",
   "metadata": {
    "collapsed": true
   },
   "source": [
    "Consider yet another modification of the above problem, obtained by ignoring/deleting the rank constraint:\n",
    "\n",
    "$$\\begin{aligned}\n",
    "q^{*} =\\, &\\underset{X\\in\\mathbb{S}^{n}_{+}}{\\text{minimize}}\\quad \\text{trace}\\left(WX\\right)\\\\\n",
    "&\\text{subject to}\\quad X_{ii} = 1,\\quad i=1,...,n.\n",
    "\\end{aligned}$$\n",
    "\n",
    "**Is the above optimization problem convex? Why/why not?**"
   ]
  },
  {
   "cell_type": "markdown",
   "metadata": {
    "deletable": false,
    "editable": false,
    "run_control": {
     "frozen": true
    }
   },
   "source": [
    "#### Solution"
   ]
  },
  {
   "cell_type": "markdown",
   "metadata": {},
   "source": []
  },
  {
   "cell_type": "markdown",
   "metadata": {
    "collapsed": true
   },
   "source": [
    "**Write an inequality between $p^{*}$ in part (a) and $q^{*}$ given above.**"
   ]
  },
  {
   "cell_type": "markdown",
   "metadata": {},
   "source": [
    "#### Solution"
   ]
  },
  {
   "cell_type": "markdown",
   "metadata": {},
   "source": []
  },
  {
   "cell_type": "markdown",
   "metadata": {},
   "source": [
    "## (g) (5+5=10 points) "
   ]
  },
  {
   "cell_type": "markdown",
   "metadata": {},
   "source": [
    "Let us examine the geometric meaning of the constraint set for $q^{*}$ in part (f). This set is called **elliptope**. For $n=3$, the elliptope\n",
    "\n",
    "$$\\{X \\in \\mathbb{S}^{3}_{+} \\:\\mid\\: X_{11} = X_{22} = X_{33} = 1\\} = \\left\\{(x,y,z)\\in\\mathbb{R}^{3} \\mathrel{} \\middle| \\mathrel{}  \\begin{bmatrix} 1 & x & y\\\\\n",
    "x & 1 & z\\\\\n",
    "y & z & 1\\end{bmatrix} \\succeq 0\n",
    "\\right\\}$$\n",
    "can be visualized as a subset of $\\mathbb{R}^{3}$. Write a code to make a 3D plot the above set superimposed with the cube $[-1,1]^{3}$.\n",
    "\n",
    "Is the above 3D set convex? Is it contained in $[-1,1]^{3}$? Mathematically justify your answers."
   ]
  },
  {
   "cell_type": "code",
   "execution_count": 2,
   "metadata": {
    "deletable": false,
    "editable": false,
    "run_control": {
     "frozen": true
    }
   },
   "outputs": [
    {
     "name": "stdout",
     "output_type": "stream",
     "text": [
      "\n"
     ]
    },
    {
     "data": {
      "image/png": "[encoded data removed]",
      "text/plain": [
       "<IPython.core.display.Image object>"
      ]
     },
     "metadata": {},
     "output_type": "display_data"
    }
   ],
   "source": [
    "fimplicit3( @(x, y, z) 1 - x.^2 - y.^2 - z.^2 + 2.*x.*y.*z)"
   ]
  },
  {
   "cell_type": "markdown",
   "metadata": {},
   "source": [
    "### Solution"
   ]
  },
  {
   "cell_type": "markdown",
   "metadata": {},
   "source": []
  },
  {
   "cell_type": "markdown",
   "metadata": {
    "collapsed": true
   },
   "source": [
    "## (h) (5 points) "
   ]
  },
  {
   "cell_type": "markdown",
   "metadata": {
    "collapsed": true
   },
   "source": [
    "Write and explain the relation between $p^{*}$ (optimal value of the primal problem), $d^{*}$ (optimal value of the dual problem), and $q^{*}$ (optimal value of the problem derived in part (f)).\n",
    "\n",
    "(Hint: Consider the dual problem of the dual problem derived in part (b).)"
   ]
  },
  {
   "cell_type": "markdown",
   "metadata": {
    "collapsed": true
   },
   "source": [
    "### Solution"
   ]
  },
  {
   "cell_type": "markdown",
   "metadata": {},
   "source": []
  }
 ],
 "metadata": {
  "kernelspec": {
   "display_name": "Python 3",
   "language": "python",
   "name": "python3"
  },
  "language_info": {
   "codemirror_mode": {
    "name": "ipython",
    "version": 3
   },
   "file_extension": ".py",
   "mimetype": "text/x-python",
   "name": "python",
   "nbconvert_exporter": "python",
   "pygments_lexer": "ipython3",
   "version": "3.6.4"
  }
 },
 "nbformat": 4,
 "nbformat_minor": 2
}
