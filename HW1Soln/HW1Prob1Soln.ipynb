{
 "cells": [
  {
   "cell_type": "markdown",
   "metadata": {
    "collapsed": true,
    "nbgrader": {
     "grade": false,
     "grade_id": "cell-82ef2c2792a01bb4",
     "locked": true,
     "schema_version": 1,
     "solution": false
    }
   },
   "source": [
    "# Positive semidefinite matrices\n",
    "\n",
    "A real $n\\times n$ matrix $X$ is called positive semidefinite (resp. positive definite) if it satisfies\n",
    "$$ X = X^{\\top}, \\quad v^{\\top} X v \\geq (\\text{resp.} >) \\, 0, \\qquad \\forall \\, v \\in \\mathbb{R}^{n}.$$"
   ]
  },
  {
   "cell_type": "markdown",
   "metadata": {
    "nbgrader": {
     "grade": true,
     "grade_id": "cell-3c6adf218161f955",
     "locked": false,
     "points": 10,
     "schema_version": 1,
     "solution": true
    }
   },
   "source": [
    "## Eigenvalues                                                              \n",
    "\n",
    "(10 points) Prove that all eigenvalues of $X$ are $\\geq 0$ for positive semidefinite case, and $>0$ for positive definite case."
   ]
  },
  {
   "cell_type": "markdown",
   "metadata": {
    "nbgrader": {
     "grade": false,
     "grade_id": "cell-69f3ca88791a69b8",
     "locked": true,
     "schema_version": 1,
     "solution": false
    }
   },
   "source": [
    "## Solution:\n",
    "Since $v^{\\top} X v \\geq (\\text{resp.} >) \\, 0, \\: \\forall \\, v \\in \\mathbb{R}^{n}$, this must also hold for the special choice of $v$ being the an eignvector of $X$ associated with an eigenvalue $\\lambda$. Then $v^{\\top} X v = \\lambda \\parallel v \\parallel_{2}^{2} \\quad\\geq (\\text{resp.} >) \\, 0$, which implies $\\lambda \\geq (\\text{resp.} >) \\, 0$. Since our choice of eigenvector was arbitrary, this must be true for all eigenvectors, and hence for all eigenvalues of the matrix $X$. Hence the statement."
   ]
  },
  {
   "cell_type": "markdown",
   "metadata": {
    "nbgrader": {
     "grade": true,
     "grade_id": "cell-0d7e0dbd1c80b290",
     "locked": false,
     "points": 10,
     "schema_version": 1,
     "solution": true
    }
   },
   "source": [
    "## The set $\\mathbb{S}_{+}^{n}$\n",
    "\n",
    "(10 points) Let $\\mathbb{S}_{+}^{n}$ denote the set of all $n\\times n$ positive semidefinite matrices. Prove that $\\mathbb{S}_{+}^{n}$ is a convex cone.\n",
    "\n",
    "(Hint: Choose some arbitrary positive integer $m$. Then from the definition of positive semidefiniteness, prove that for any $X_{1}, X_{2}, ..., X_{m} \\in \\mathbb{S}_{+}^{n}$, and $\\alpha_{1}, \\alpha_{2}, ..., \\alpha_{m} \\geq 0$, the matrix $\\sum_{i=1}^{m}\\alpha_{i}X_{i} \\in \\mathbb{S}_{+}^{n}$.)"
   ]
  },
  {
   "cell_type": "markdown",
   "metadata": {
    "nbgrader": {
     "grade": false,
     "grade_id": "cell-3dea24d8cc32b73b",
     "locked": true,
     "schema_version": 1,
     "solution": false
    }
   },
   "source": [
    "## Solution:\n",
    "We have $v^{\\top} \\left(\\sum_{i=1}^{m}\\alpha_{i}X_{i}\\right) v = \\sum_{i=1}^{m}\\alpha_{i}v^{\\top}X_{i}v \\geq 0$ since for each $i=1,...,m$, we know that $v^{\\top}X_{i}v \\geq 0$. This proves that $\\mathbb{S}_{+}^{n}$ is a convex cone."
   ]
  },
  {
   "cell_type": "markdown",
   "metadata": {
    "nbgrader": {
     "grade": true,
     "grade_id": "cell-ebc8da5ea74dd4fd",
     "locked": false,
     "points": 10,
     "schema_version": 1,
     "solution": true
    }
   },
   "source": [
    "## Matrix product\n",
    "\n",
    "(10 points) Let $A, B \\in \\mathbb{S}_{+}^{n}$. True or false: $AB \\in \\mathbb{S}_{+}^{n}$? If your answer is \"true\", then give a proof. If your answer is \"false\", then give a counterexample."
   ]
  },
  {
   "cell_type": "markdown",
   "metadata": {
    "nbgrader": {
     "grade": false,
     "grade_id": "cell-eef0dfd7dd68846d",
     "locked": true,
     "schema_version": 1,
     "solution": false
    }
   },
   "source": [
    "## Solution:\n",
    "False. We give a counterexample showing that the matrix product does not even preserve symmetry, let alone positive semidefiniteness. Consider the $2\\times 2$ matrices:\n",
    "$$ A = \\begin{pmatrix} 2 & 1\\\\1 & 1\\end{pmatrix}, \\qquad B = \\begin{pmatrix} 5 & 2\\\\2 & 1\\end{pmatrix},$$\n",
    "both of which are in $\\mathbb{S}^{2}_{+}$. But the product\n",
    "$$ AB = \\begin{pmatrix} 12 & 5\\\\7 & 3\\end{pmatrix} $$\n",
    "is not symmetric."
   ]
  },
  {
   "cell_type": "markdown",
   "metadata": {
    "nbgrader": {
     "grade": true,
     "grade_id": "cell-8d1183c45e88b82c",
     "locked": false,
     "points": 10,
     "schema_version": 1,
     "solution": true
    }
   },
   "source": [
    "## Hadamard product\n",
    "\n",
    "(10 points) Let $A, B \\in \\mathbb{S}_{+}^{n}$. The Hadamard product $A\\odot B$ is defined as the element-wise product: $(A\\odot B)_{ij} := a_{ij}b_{ij}$. True or false: $A\\odot B \\in \\mathbb{S}_{+}^{n}$? If your answer is \"true\", then give a proof. If your answer is \"false\", then give a counterexample."
   ]
  },
  {
   "cell_type": "markdown",
   "metadata": {
    "collapsed": true,
    "nbgrader": {
     "grade": false,
     "grade_id": "cell-f9533bdcdb4872d2",
     "locked": true,
     "schema_version": 1,
     "solution": false
    }
   },
   "source": [
    "## Solution:\n",
    "True. Let $\\{\\lambda_{i},u_{i}\\}_{i=1}^{n}$ be the eigenvalue-eigenvector pair for matrix $A$. Similarly, let $\\{\\mu_{i},v_{i}\\}_{i=1}^{n}$ be the eigenvalue-eigenvector pair for matrix $B$. We know that $\\lambda_{i},\\mu_{i} \\geq 0$ for all $i=1,...,n$ (as proved in the first part of this Problem 1). From the spectral decomposition, we know that\n",
    "$$A = \\displaystyle\\sum_{i=1}^{n} \\lambda_{i}u_{i}u_{i}^{\\top}, \\qquad B = \\displaystyle\\sum_{i=1}^{n} \\mu_{i}v_{i}v_{i}^{\\top}.$$\n",
    "Therefore, $A \\odot B = \\displaystyle\\sum_{i,j=1}^{n} \\lambda_{i}\\mu_{j}\\left(u_{i}u_{i}^{\\top}\\right)\\odot\\left(v_{j}v_{j}^{\\top}\\right) = \\displaystyle\\sum_{i,j=1}^{n} \\lambda_{i}\\mu_{j}\\left(u_{i}\\odot v_{j}\\right)\\left(u_{i}\\odot v_{j}\\right)^{\\top}$. This shows that the Hadamard product $A \\odot B$ can be seen as the conic combination of outer product matrices.\n",
    "\n",
    "Since $\\lambda_{i}\\mu_{j} \\geq 0$, and the outer product matrices $\\left(u_{i}\\odot v_{j}\\right)\\left(u_{i}\\odot v_{j}\\right)^{\\top}$ are in $\\mathbb{S}^{n}_{+}$ for all $i,j=1,...,n$, hence the conic combination is also in $\\mathbb{S}^{n}_{+}$ (as proved in the second part of this Problem 1)."
   ]
  },
  {
   "cell_type": "code",
   "execution_count": null,
   "metadata": {
    "collapsed": true
   },
   "outputs": [],
   "source": []
  }
 ],
 "metadata": {
  "celltoolbar": "Create Assignment",
  "kernelspec": {
   "display_name": "Python 2",
   "language": "python",
   "name": "python2"
  },
  "language_info": {
   "codemirror_mode": {
    "name": "ipython",
    "version": 2
   },
   "file_extension": ".py",
   "mimetype": "text/x-python",
   "name": "python",
   "nbconvert_exporter": "python",
   "pygments_lexer": "ipython2",
   "version": "2.7.14"
  }
 },
 "nbformat": 4,
 "nbformat_minor": 2
}
