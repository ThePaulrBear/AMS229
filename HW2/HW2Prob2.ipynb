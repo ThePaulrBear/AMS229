{
 "cells": [
  {
   "cell_type": "markdown",
   "metadata": {},
   "source": [
    "$ \n",
    "% General Latex Definitions\n",
    "\\newcommand {\\vec}{\\mathbf} % Redfine vector variable rendering\n",
    "\\newcommand {\\mat}{\\mathbf} % Redfine matrix variable rendering\n",
    "\\newcommand {\\set}{\\mathcal} % Redefine set name redering\n",
    "\\newcommand{\\trans}{^ \\top} % \\intercal} % Vector or matrix transpose notation (\\intercal is an alternative)\n",
    "\\newcommand{\\suchthat}{\\mid} %Alternative: \\mathrel{} \\middle| \\mathrel{} \n",
    "% Sets\n",
    "\\newcommand {\\reals}{\\mathbb{R}}\n",
    "\\newcommand {\\positivereals}{\\reals_{++}}\n",
    "\\newcommand {\\integers}{\\mathbb{Z}}\n",
    "\\newcommand {\\squareMatrices}{\\reals^{n \\times n}}\n",
    "\\newcommand {\\symmetricmatrices}{\\mathbb{S}^{n}}\n",
    "\\newcommand {\\pdMatrices}{\\symmetricmatrices_{++}}\n",
    "\\newcommand {\\psdMatrices}{\\symmetricmatrices_{+}}\n",
    "% Matrix shortcut\n",
    "\\newcommand {\\matstart}{\\begin{bmatrix}}\n",
    "\\newcommand {\\matend}{\\end{bmatrix}}\n",
    "$"
   ]
  },
  {
   "cell_type": "markdown",
   "metadata": {},
   "source": [
    "# (4 x 5 = 20 points) Which of the following functions is convex, concave, both convex and concave, neither convex nor concave? Give proofs supporting your answer.$ \n",
    "% General Latex Definitions\n",
    "\\newcommand {\\vec}{\\mathbf} % Vector variable\n",
    "\\newcommand {\\mat}{} % Matrix variable\n",
    "\\newcommand {\\set}{\\mathcal} % Set name\n",
    "\\newcommand{\\invs}{^{-1}}\n",
    "\\newcommand{\\trans}{^ \\top} % \\intercal} % Vector or matrix transpose notation (\\intercal is an alternative)\n",
    "\\newcommand{\\suchthat}{\\mid} %Alternative: \\mathrel{} \\middle| \\mathrel{} \n",
    "\\newcommand {\\definedas}{:=}\n",
    "\\newcommand {\\arctan}{\\text{tan}^{-1}}\n",
    "\\newcommand {\\norm}[1]{||#1||_2}\n",
    "\\newcommand {\\abs}[1]{|#1|}\n",
    "\\newcommand {\\for}{\\text{for}\\;}\n",
    "% Sets\n",
    "\\newcommand {\\reals}{\\mathbb{R}}\n",
    "\\newcommand {\\realsn}{\\reals^{n}}\n",
    "\\newcommand {\\positivereals}{\\reals_{>0}}\n",
    "\\newcommand {\\integers}{\\mathbb{Z}}\n",
    "\\newcommand \\squarematrices[1][n]{\\reals^{#1 \\times #1}}\n",
    "\\newcommand \\symmetricmatrices[1][n]{\\mathbb{S}^{#1}}\n",
    "\\newcommand \\pdmatrices[1][n]{\\symmetricmatrices[#1]_{++}}\n",
    "\\newcommand \\psdmatrices[1][n]{\\symmetricmatrices[#1]_{+}}\n",
    "% Common vectors. If a value is a variable don't use the \"\\\"\n",
    "\\newcommand {\\x}{\\vec x}\n",
    "\\newcommand {\\y}{\\vec y} \n",
    "\\newcommand {\\u}{\\vec u}\n",
    "\\newcommand {\\v}{\\vec v}\n",
    "% Common Matrices\n",
    "\\newcommand {\\A}{\\mat A} \n",
    "\\newcommand {\\B}{\\mat B}\n",
    "\\newcommand {\\X}{\\mat X} \n",
    "\\newcommand {\\Y}{\\mat Y}\n",
    "\\newcommand {\\I}{\\mat I} % Identity\n",
    "% Calculus\n",
    "\\newcommand {\\derive}[2]{\\frac{d#1}{d#2}}\n",
    "\\newcommand {\\ddx}{\\derive{}{x}}\n",
    "\\newcommand {\\dxdt}{\\derive{x}{t}}\n",
    "\\newcommand {\\dfdx}{\\derive{f}{x}}\n",
    "\\newcommand {\\del}{\\nabla}\n",
    "\\newcommand {\\hessian}{\\del^2}\n",
    "% Convex Optimizations\n",
    "\\newcommand \\convexcombo[2]{\\theta #1 + (1 - \\theta)#2}\n",
    "$"
   ]
  },
  {
   "cell_type": "markdown",
   "metadata": {},
   "source": [
    "**(a)** (Logarithmic barrier for second-order cone) $f(x,t) = \\log\\left(\\displaystyle\\frac{1}{t^{2} - x^{\\top}x}\\right)$ on ${\\rm{\\mathbf{dom}}}(f) = \\{(x,t) \\in \\mathbb{R}^{n} \\times \\mathbb{R} \\:\\mid\\: \\parallel x\\parallel_{2} \\:<\\: t\\}$, the second-order cone (also known as the ice-cream cone, and the Lorentz cone)."
   ]
  },
  {
   "cell_type": "markdown",
   "metadata": {},
   "source": [
    "### Answer\n",
    "Note that $f(x, t) = -\\log(t^2 - \\x \\trans \\x)$. Define $\\vec z= [\\x \\quad t]\\trans$. We can replace \n",
    "\n",
    "$$ t^2 - \\x\\trans \\x = A \\vec z$$\n",
    "\n"
   ]
  },
  {
   "cell_type": "markdown",
   "metadata": {},
   "source": [
    "**(b)** (Maximum eigenvalue) $f(X) = \\lambda_{\\max}\\left(X\\right)$ for $X\\in\\mathbb{S}^{n}$, the set of $n\\times n$ symmetric matrices."
   ]
  },
  {
   "cell_type": "markdown",
   "metadata": {},
   "source": [
    "### Answer$\n",
    "\\newcommand {\\lambdaMax}{\\lambda_\\text{max}}\n",
    "\\newcommand {\\lambdaMin}{\\lambda_\\text{min}}\n",
    "\\newcommand {\\R}{\\set R}\n",
    "\\newcommand {\\A}{\\mat A}\n",
    "\\newcommand {\\v}{\\vec v}\n",
    "\\newcommand {\\x}{\\vec x}\n",
    "$\n",
    "The Rayleigh quotient is defined as $R(\\A, \\x) = \\frac{\\x \\trans \\A \\x}{\\x \\trans \\x}$, where $\\A \\in \\squareMatrices, \\: \\x \\in \\reals^n$. If $\\A$ is symmetric, ($\\A \\in \\symmetricmatrices$), then the range of $R(\\A, \\x)$ is $[\\lambdaMin, \\lambdaMax] \\in \\reals$, where $\\lambdaMin$ and $\\lambdaMax$ are the minimum and maximum eigen values of $\\mat A$. Therefore, if we take the supremum over $R$ with a fixed $\\A$, we will get the maximum eigen value of $A$. Note that $R(\\A, \\x)$ is an affine function with respect to $\\A$, so it is convex (and concave).\n",
    "\n",
    "We can consider $R(\\A, \\x)$ to be a family of convex functions which are defined for each different value of $\\x$, so the function $f(\\A) = \\lambdaMax(\\A) = \\sup\\{R(\\A, \\x) \\suchthat \\x \\in \\reals^n\\}$ is the pointwise supremum of convex functions, which preserves convexity, therefore $f$ convex.\n",
    "\n",
    "$% According to the [Min-max Theorem](https://en.wikipedia.org/wiki/Min-max_theorem)$"
   ]
  },
  {
   "cell_type": "markdown",
   "metadata": {},
   "source": [
    "**(c)** (Minimum eigenvalue) $f(X) = \\lambda_{\\min}\\left(X\\right)$ for $X\\in\\mathbb{S}^{n}$, the set of $n\\times n$ symmetric matrices."
   ]
  },
  {
   "cell_type": "markdown",
   "metadata": {},
   "source": [
    "**(d)** \n",
    "$f(x) =\\: \\parallel x\\: \\parallel_{p} \\:= \\left(\\displaystyle\\sum_{i=1}^{n} x_{i}^{p}\\right)^{1/p}$ with $-\\infty < p < 1, p \\neq 0$, on ${\\rm{\\mathbf{dom}}}(f) = \\mathbb{R}^{n}_{>0}$, the positive orthant."
   ]
  },
  {
   "cell_type": "markdown",
   "metadata": {},
   "source": [
    "It is necessary to use the second condition. \n",
    "Take the Hessian of $f$\n",
    "\n",
    "$$ \\hessian f $$\n",
    "\n"
   ]
  },
  {
   "cell_type": "markdown",
   "metadata": {},
   "source": [
    "**(e)** (Kullback-Leibler divergence) $f(p,q) = \\displaystyle\\sum_{i=1}^{n} p_{i}\\log\\left(\\displaystyle\\frac{p_{i}}{q_{i}}\\right)$ on ${\\rm{\\mathbf{dom}}}(f) = \\{(p,q)\\in\\mathbb{R}_{\\geq 0}^{n}\\times\\mathbb{R}_{\\geq 0}^{n} \\:\\mid\\: \\mathbf{1}^{\\top}p = \\mathbf{1}^{\\top}q = 1\\}$, the probability simplex."
   ]
  },
  {
   "cell_type": "markdown",
   "metadata": {
    "collapsed": true
   },
   "source": [
    "### Answer\n",
    "The function $g(q_i)_1 = \\log(q_i)$ is concave on $\\positivereals$.\n",
    "\n",
    "The function $g(q_i)_2 = -\\log(q_i)$ is convex, because the negation of a concave function is convex.\n",
    "\n",
    "The function $g(p_i, q_i)_3 = -p_i \\log(\\frac{q_i}{p_i}) = p_i \\log(\\frac{p_i}{q_i}) = $ is convex, because it is the perspective transformation of $g_2$ (which preserves convexity).\n",
    "\n",
    "The sum of convex functions is convex, therefore $f(\\vec q, \\vec p)$ is convex. Furthermore, $f(\\vec q, \\vec p)$ is clearly not affine, so it is not concave.  \n"
   ]
  }
 ],
 "metadata": {
  "kernelspec": {
   "display_name": "Python 3",
   "language": "python",
   "name": "python3"
  },
  "language_info": {
   "codemirror_mode": {
    "name": "ipython",
    "version": 3
   },
   "file_extension": ".py",
   "mimetype": "text/x-python",
   "name": "python",
   "nbconvert_exporter": "python",
   "pygments_lexer": "ipython3",
   "version": "3.6.4"
  }
 },
 "nbformat": 4,
 "nbformat_minor": 2
}
