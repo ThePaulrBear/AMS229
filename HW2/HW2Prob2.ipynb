{
 "cells": [
  {
   "cell_type": "markdown",
   "metadata": {},
   "source": [
    "# (4 x 5 = 20 points) Which of the following functions is convex, concave, both convex and concave, neither convex nor concave? Give proofs supporting your answer."
   ]
  },
  {
   "cell_type": "markdown",
   "metadata": {},
   "source": [
    "(a) (Logarithmic barrier for second-order cone) $f(x,t) = \\log\\left(\\displaystyle\\frac{1}{t^{2} - x^{\\top}x}\\right)$ on ${\\rm{\\mathbf{dom}}}(f) = \\{(x,t) \\in \\mathbb{R}^{n} \\times \\mathbb{R} \\:\\mid\\: \\parallel x\\parallel_{2} \\:<\\: t\\}$, the second-order cone (also known as the ice-cream cone, and the Lorentz cone)."
   ]
  },
  {
   "cell_type": "markdown",
   "metadata": {},
   "source": [
    "(b) (Maximum eigenvalue) $f(X) = \\lambda_{\\max}\\left(X\\right)$ for $X\\in\\mathbb{S}^{n}$, the set of $n\\times n$ symmetric matrices."
   ]
  },
  {
   "cell_type": "markdown",
   "metadata": {},
   "source": [
    "(c) (Minimum eigenvalue) $f(X) = \\lambda_{\\min}\\left(X\\right)$ for $X\\in\\mathbb{S}^{n}$, the set of $n\\times n$ symmetric matrices."
   ]
  },
  {
   "cell_type": "markdown",
   "metadata": {},
   "source": [
    "(d) $f(x) =\\: \\parallel x\\: \\parallel_{p} \\:= \\left(\\displaystyle\\sum_{i=1}^{n} x_{i}^{p}\\right)^{1/p}$ with $-\\infty < p < 1, p \\neq 0$, on ${\\rm{\\mathbf{dom}}}(f) = \\mathbb{R}^{n}_{>0}$, the positive orthant."
   ]
  },
  {
   "cell_type": "markdown",
   "metadata": {},
   "source": [
    "(e) (Kullback-Leibler divergence) $f(p,q) = \\displaystyle\\sum_{i=1}^{n} p_{i}\\log\\left(\\displaystyle\\frac{p_{i}}{q_{i}}\\right)$ on ${\\rm{\\mathbf{dom}}}(f) = \\{(p,q)\\in\\mathbb{R}_{\\geq 0}^{n}\\times\\mathbb{R}_{\\geq 0}^{n} \\:\\mid\\: \\mathbf{1}^{\\top}p = \\mathbf{1}^{\\top}q = 1\\}$, the probability simplex."
   ]
  },
  {
   "cell_type": "code",
   "execution_count": null,
   "metadata": {
    "collapsed": true
   },
   "outputs": [],
   "source": []
  }
 ],
 "metadata": {
  "kernelspec": {
   "display_name": "Python 2",
   "language": "python",
   "name": "python2"
  },
  "language_info": {
   "codemirror_mode": {
    "name": "ipython",
    "version": 2
   },
   "file_extension": ".py",
   "mimetype": "text/x-python",
   "name": "python",
   "nbconvert_exporter": "python",
   "pygments_lexer": "ipython2",
   "version": "2.7.14"
  }
 },
 "nbformat": 4,
 "nbformat_minor": 2
}
