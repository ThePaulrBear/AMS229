{
 "cells": [
  {
   "cell_type": "markdown",
   "metadata": {},
   "source": [
    "$ \n",
    "% General Latex Definitions\n",
    "\\newcommand {\\vec}{\\mathbf} % Redfine vector variable rendering\n",
    "\\newcommand {\\mat}{\\mathbf} % Redfine matrix variable rendering\n",
    "\\newcommand {\\set}{\\mathcal} % Redefine set name redering\n",
    "\\newcommand{\\trans}{^ \\top} % \\intercal} % Vector or matrix transpose notation (\\intercal is an alternative)\n",
    "\\newcommand{\\suchthat}{\\mid} %Alternative: \\mathrel{} \\middle| \\mathrel{} \n",
    "% Sets\n",
    "\\newcommand {\\reals}{\\mathbb{R}}\n",
    "\\newcommand {\\positivereals}{\\reals_{++}}\n",
    "\\newcommand {\\integers}{\\mathbb{Z}}\n",
    "\\newcommand {\\squareMatrices}{\\reals^{n \\times n}}\n",
    "\\newcommand {\\symmetricmatrices}{\\mathbb{S}^{n}}\n",
    "\\newcommand {\\pdMatrices}{\\symmetricmatrices_{++}}\n",
    "\\newcommand {\\psdMatrices}{\\symmetricmatrices_{+}}\n",
    "% Matrix shortcut\n",
    "\\newcommand {\\matstart}{\\begin{bmatrix}}\n",
    "\\newcommand {\\matend}{\\end{bmatrix}}\n",
    "$"
   ]
  },
  {
   "cell_type": "markdown",
   "metadata": {},
   "source": [
    "# (4 x 5 = 20 points) Which of the following functions is convex, concave, both convex and concave, neither convex nor concave? Give proofs supporting your answer."
   ]
  },
  {
   "cell_type": "markdown",
   "metadata": {},
   "source": [
    "**(a)** (Logarithmic barrier for second-order cone) $f(x,t) = \\log\\left(\\displaystyle\\frac{1}{t^{2} - x^{\\top}x}\\right)$ on ${\\rm{\\mathbf{dom}}}(f) = \\{(x,t) \\in \\mathbb{R}^{n} \\times \\mathbb{R} \\:\\mid\\: \\parallel x\\parallel_{2} \\:<\\: t\\}$, the second-order cone (also known as the ice-cream cone, and the Lorentz cone)."
   ]
  },
  {
   "cell_type": "markdown",
   "metadata": {},
   "source": [
    "**(b)** (Maximum eigenvalue) $f(X) = \\lambda_{\\max}\\left(X\\right)$ for $X\\in\\mathbb{S}^{n}$, the set of $n\\times n$ symmetric matrices."
   ]
  },
  {
   "cell_type": "markdown",
   "metadata": {},
   "source": [
    "### Answer$\n",
    "\\newcommand {\\lambdaMax}{\\lambda_\\text{max}}\n",
    "\\newcommand {\\lambdaMin}{\\lambda_\\text{min}}\n",
    "\\newcommand {\\R}{\\set R}\n",
    "\\newcommand {\\A}{\\mat A}\n",
    "\\newcommand {\\v}{\\vec v}\n",
    "\\newcommand {\\x}{\\vec x}\n",
    "$\n",
    "The Rayleigh quotient is defined as $R(\\A, \\x) = \\frac{\\x \\trans \\A \\x}{\\x \\trans \\x}$, where $\\A \\in \\squareMatrices, \\: \\x \\in \\reals^n$. If $\\A$ is symmetric, ($\\A \\in \\symmetricmatrices$), then the range of $R(\\A, \\x)$ is $[\\lambdaMin, \\lambdaMax] \\in \\reals$, where $\\lambdaMin$ and $\\lambdaMax$ are the minimum and maximum eigen values of $\\mat A$. Therefore, if we take the supremum over $R$ with a fixed $\\A$, we will get the maximum eigen value of $A$. Note that $R(\\A, \\x)$ is an affine function with respect to $\\A$, so it is convex (and concave).\n",
    "\n",
    "We can consider $R(\\A, \\x)$ to be a family of convex functions which are defined for each different value of $\\x$, so the function $f(\\A) = \\lambdamax(\\A) = \\sup\\{R(\\A, \\x) \\suchthat \\x \\in \\reals^n\\}$ is the pointwise supremum of convex functions, which preserves convexity, therefore $f$ convex.\n",
    "\n",
    "$% According to the [Min-max Theorem](https://en.wikipedia.org/wiki/Min-max_theorem)$"
   ]
  },
  {
   "cell_type": "markdown",
   "metadata": {},
   "source": [
    "**(c)** (Minimum eigenvalue) $f(X) = \\lambda_{\\min}\\left(X\\right)$ for $X\\in\\mathbb{S}^{n}$, the set of $n\\times n$ symmetric matrices."
   ]
  },
  {
   "cell_type": "markdown",
   "metadata": {},
   "source": [
    "**(d)** \n",
    "$f(x) =\\: \\parallel x\\: \\parallel_{p} \\:= \\left(\\displaystyle\\sum_{i=1}^{n} x_{i}^{p}\\right)^{1/p}$ with $-\\infty < p < 1, p \\neq 0$, on ${\\rm{\\mathbf{dom}}}(f) = \\mathbb{R}^{n}_{>0}$, the positive orthant."
   ]
  },
  {
   "cell_type": "markdown",
   "metadata": {},
   "source": [
    "**(e)** (Kullback-Leibler divergence) $f(p,q) = \\displaystyle\\sum_{i=1}^{n} p_{i}\\log\\left(\\displaystyle\\frac{p_{i}}{q_{i}}\\right)$ on ${\\rm{\\mathbf{dom}}}(f) = \\{(p,q)\\in\\mathbb{R}_{\\geq 0}^{n}\\times\\mathbb{R}_{\\geq 0}^{n} \\:\\mid\\: \\mathbf{1}^{\\top}p = \\mathbf{1}^{\\top}q = 1\\}$, the probability simplex."
   ]
  },
  {
   "cell_type": "markdown",
   "metadata": {
    "collapsed": true
   },
   "source": [
    "### Answer\n",
    "The function $g(q_i)_1 = \\log(q_i)$ is concave on $\\positivereals$.\n",
    "\n",
    "The function $g(q_i)_2 = -\\log(q_i)$ is convex, because the negation of a concave function is convex.\n",
    "\n",
    "The function $g(p_i, q_i)_3 = -p_i \\log(\\frac{q_i}{p_i}) = p_i \\log(\\frac{p_i}{q_i}) = $ is convex, because it is the perspective transformation of $g_2$ (which preserves convexity).\n",
    "\n",
    "The sum of convex functions is convex, therefore $f(\\vec q, \\vec p)$ is convex. Furthermore, $f(\\vec q, \\vec p)$ is clearly not affine, so it is not concave.  \n"
   ]
  }
 ],
 "metadata": {
  "kernelspec": {
   "display_name": "Python 3",
   "language": "python",
   "name": "python3"
  },
  "language_info": {
   "codemirror_mode": {
    "name": "ipython",
    "version": 3
   },
   "file_extension": ".py",
   "mimetype": "text/x-python",
   "name": "python",
   "nbconvert_exporter": "python",
   "pygments_lexer": "ipython3",
   "version": "3.6.4"
  }
 },
 "nbformat": 4,
 "nbformat_minor": 2
}
