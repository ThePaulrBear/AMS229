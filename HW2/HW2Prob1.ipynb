{
 "cells": [
  {
   "cell_type": "markdown",
   "metadata": {},
   "source": [
    "$ \n",
    "% General Latex Definitions\n",
    "\\newcommand {\\vec}{\\mathbf} % Redfine vector rendering\n",
    "\\newcommand {\\set}{\\mathcal} % Redefine set redering\n",
    "\\newcommand{\\trans}{^ \\top} % \\intercal} % Vector or matrix transpose notation (\\intercal is an alternative)\n",
    "\\newcommand{\\suchthat}{\\mid} \n",
    "% Sets\n",
    "\\newcommand {\\reals}{\\mathbb{R}} % Notation for set of real numbers.\n",
    "\\newcommand {\\positivereals}{\\reals_{++}}\n",
    "\\newcommand {\\integers}{\\mathbb{Z}} % Notation for set of integers.\n",
    "% Matrix shortcut\n",
    "\\newcommand {\\matstart}{\\begin{bmatrix}}\n",
    "\\newcommand {\\matend}{\\end{bmatrix}}\n",
    "$"
   ]
  },
  {
   "cell_type": "markdown",
   "metadata": {},
   "source": [
    "# (Text exercises 2.21, 2.24, 2.25) Separating and supporting hyperplanes"
   ]
  },
  {
   "cell_type": "markdown",
   "metadata": {},
   "source": [
    "## 1. The set of separating hyperplanes\n",
    "(10 points) Consider two disjoint sets $\\mathcal{C},\\mathcal{D} \\subseteq \\mathbb{R}^{n}$, they need not be convex. Consider the set of $(a,b)\\in\\mathbb{R}^{n+1}$ for which $a^{\\top}x \\leq b$, $\\forall\\:x\\in\\mathcal{C}$, and $a^{\\top}x \\geq b$, $\\forall\\:x\\in\\mathcal{D}$. Show that this set is a convex cone (which is the singleton $\\{0\\}$ if there is no hyperplane that separates $\\mathcal{C}$ and $\\mathcal{D}$)."
   ]
  },
  {
   "cell_type": "markdown",
   "metadata": {},
   "source": [
    "### Answer $\\newcommand {\\theset}{\\set S}\n",
    "\\newcommand {\\veca}{\\vec{a}}$\n",
    "\n",
    "Note: We will call the set $\\theset$.\n",
    "#### Proof that $\\theset$ is a cone\n",
    "\n",
    "Take $\\vec v\\trans = \\begin{bmatrix}\\vec a & b\\end{bmatrix} \\in \\theset$ and $ 0 \\leq \\theta \\in \\reals$. From the definition of $\\theset$, we know that \n",
    "\n",
    "$$\n",
    "\\vec a\\trans \\vec x \\leq b \\quad \\forall \\vec x \\in \\set C, \\quad \n",
    "\\vec a\\trans \\vec x \\geq b \\quad \\forall \\vec x \\in \\set D\n",
    "$$\n",
    "\n",
    "We then we multiple both sides of the inequalities by $\\theta$:\n",
    "\n",
    "$$ \n",
    "\\theta \\vec a\\trans \\vec x \\leq \\theta  b \\quad \\forall \\vec x \\in \\set C, \\quad \n",
    "\\theta \\vec a\\trans \\vec x \\geq \\theta b \\quad \\forall \\vec x \\in \\set D\n",
    "$$\n",
    "\n",
    "Therefore $\\theset$ is conic. \n",
    "$\n",
    "\\newcommand {\\x}{\\vec{x}}\n",
    "\\newcommand {\\va}{\\vec{v_1}}\n",
    "\\newcommand {\\vb}{\\vec{v_2}}\n",
    "\\newcommand {\\vc}{\\vec{v_c}}\n",
    "\\newcommand {\\aa}{\\vec{a_1}}\n",
    "\\newcommand {\\ab}{\\vec{a_2}}\n",
    "\\newcommand {\\ac}{\\vec{a_c}}\n",
    "\\newcommand {\\ba}{b_1}\n",
    "\\newcommand {\\bb}{b_2}\n",
    "\\newcommand {\\bc}{b_c}\n",
    "$\n",
    "#### Proof that  $\\theset$ is a convex\n",
    "Take $\\va = \\matstart \\aa & \\ba \\matend \\trans \\in \\theset, \\quad \\vb = \\matstart \\ab & \\bb \\matend \\trans \\in \\theset, \\quad$ and $0 \\leq \\theta \\leq 1$.\n",
    "\n",
    "We then take the convex combination of $\\va$ and $\\vc$: $\\vc \n",
    "= \\matstart \\ac \\\\ \\bc \\matend\n",
    "= \\matstart \\theta \\aa + (1 - \\theta) \\ab \\\\ \\theta \\ba + (1 - \\theta) \\bb \\matend \n",
    "$\n",
    "\n",
    "From the definition of $\\theset$, we know that \n",
    "\n",
    "$$\\aa\\trans \\x \\leq \\ba, \\quad \\ab \\trans \\x \\leq \\bb \\quad \\forall \\x \\in \\set C$$\n",
    "\n",
    "If we multiply the first inequality by $\\theta$ and the second by $(1-\\theta)$, then add them together we get\n",
    "\n",
    "$$(\\theta \\aa + (1 - \\theta) \\ab)\\trans \\x \\leq \\theta \\ba + (1 - \\theta) \\bb$$\n",
    "\n",
    "We then substitute in the values from $\\vc$:\n",
    "\n",
    "$$\\ac \\trans \\x \\leq \\bc \\quad \\forall \\x \\in \\set C$$\n",
    "\n",
    "By a similar process, we get:\n",
    "\n",
    "$$\\ac \\trans \\x \\geq \\bc \\quad \\forall \\x \\in \\set D$$\n",
    "\n",
    "Therefore $\\vc \\in \\theset$ and $\\theset$ is convex. "
   ]
  },
  {
   "cell_type": "markdown",
   "metadata": {},
   "source": [
    "## 2. Explicitly write convex set as intersection of halfspaces\n",
    "\n",
    "(5 points) Express the closed convex set $\\set C = \\{x \\in \\mathbb{R}^{2}_{++} \\:\\mid\\: x_{1}x_{2} \\geq 1\\}$ as an intersection of halfspaces."
   ]
  },
  {
   "cell_type": "markdown",
   "metadata": {},
   "source": [
    "### Answer $\n",
    "\\newcommand {\\xzerovalues}{\\matstart x_1 & \\frac{1}{x_1} \\matend}\n",
    "\\newcommand {\\nvalues}{\\matstart \\frac{1}{x_1} & x_1 \\matend}$\n",
    "Take the function $F(x_1, x_2) = x_1 x_2 = 1$, then the gradient \n",
    "$$\\nabla F = \\matstart x_2 \\\\ x_1 \\matend = \\matstart \\frac{1}{x_1} \\\\ x_1 \\matend$$\n",
    "is perpendicular to the boundary of the set, so $\\vec n \\trans = \\nvalues$. \n",
    "\n",
    "Thus, at each $\\vec x_0 \\trans = \\xzerovalues$ we can construct a set of halfspaces on the border of the set that is tangential to the boundary of the set at that.\n",
    "\n",
    "$$\\set H_{\\vec x_0} = \\{ \\vec x \\in \\reals^n \\suchthat \\vec n \\trans (\\vec x - \\vec x_0) \\geq 0, \\quad x_0 \\in \\positivereals^n\\}$$\n",
    "\n",
    "After a bit of algebra, we see that  \n",
    "\n",
    "$$\\set H_{\\vec x_0} = \\{ \\vec x \\in \\reals^n \\suchthat \\nvalues \\vec x \\geq 2, \\quad x_1 > 0\\}$$\n",
    "\n",
    "The set $\\set C$ then is \n",
    "$$\\set C = \\bigcap_{\\:\\: \\vec x_0 \\in \\positivereals} \\set H_{x_0}$$"
   ]
  },
  {
   "cell_type": "markdown",
   "metadata": {},
   "source": [
    "## 3. Explicit computation of supporting hyperplanes\n",
    "\n",
    "(5 points) Let $\\mathcal{C}=\\{x\\in\\mathbb{R}^{n} \\:\\mid\\: \\parallel x \\parallel_{\\infty} \\:\\leq\\: 1\\}$, the $\\ell_{\\infty}$-norm unit ball in $\\mathbb{R}^{n}$, and let $\\widehat{x}$ be a point in the boundary of $\\mathcal{C}$. Identify the supporting hyperplanes of $\\mathcal{C}$ at $\\widehat{x}$ explicitly."
   ]
  },
  {
   "cell_type": "markdown",
   "metadata": {},
   "source": [
    "### Answer\n",
    "For each $\\vec x$ in $\\set X$ we can construct a set of normal vectors \n",
    "\n",
    "$$\\set N(\\vec x) = \\left\\{ \\vec n \\in \\reals^n \\suchthat \\vec n_i = \\alpha_i \\vec x_i, \\quad\n",
    "\\begin{cases} \n",
    "  \\alpha_i > 0 & \\text{if } |x_i| = \\max(|x_1|, \\cdots, |x_n|) \\\\\n",
    "  \\alpha_i = 0 & \\text{if } |x_i| < \\max(|x_1|, \\cdots, |x_n|) \n",
    "\\end{cases},\n",
    "\\quad i = 1, \\cdots, n \\right\\}$$\n",
    "\n",
    "The set of supporting hyperplanes at $\\vec x_0 \\in \\set C$ can be written as $\\{x \\in \\reals^n \\suchthat \\vec n \\trans (\\vec x - \\vec x_0) = \\vec 0, \\: \\vec n \\in \\set N(\\vec x_0) \\}$"
   ]
  },
  {
   "cell_type": "markdown",
   "metadata": {},
   "source": [
    "## 4. Inner and outer polyhedral approximations\n",
    "(5 + 5 = 10 points) Let $\\mathcal{X} \\subseteq \\mathbb{R}^{n}$ be a closed convex set, and suppose that $x_{1}, ..., x_{K}$ are on the boundary of $\\mathcal{X}$. Suppose that for each $i\\in\\{1,...,K\\}$, the equation $a_{i}^{\\top}(x-x_{i}) = 0$ defines a supporting hyperplane for $\\mathcal{X}$ at $x_{i}$, i.e., $\\mathcal{X} \\subseteq \\{x \\in \\mathbb{R}^{n} \\:\\mid\\: a_{i}^{\\top}(x-x_{i}) \\leq 0\\}$. Now consider two polyhedra\n",
    "\n",
    "$$ \\mathcal{P}_{\\text{inner}} = {\\rm{conv}}\\{x_{1}, ..., x_{K}\\}, \\quad \\mathcal{P}_{\\text{outer}} = \\{x \\in \\mathbb{R}^{n} \\:\\mid\\: a_{i}^{\\top}(x-x_{i}) \\leq 0,\\; i=1,...,K\\}. $$\n",
    "\n",
    "Prove that $\\mathcal{P}_{\\text{inner}} \\subseteq \\mathcal{X} \\subseteq \\mathcal{P}_{\\text{outer}}$. Draw a picture illustrating this."
   ]
  },
  {
   "cell_type": "markdown",
   "metadata": {},
   "source": [
    "### Answer $\n",
    "\\newcommand {\\Pouter}{\\set{P}_{\\text{outer}}}\n",
    "\\newcommand {\\Pinner}{\\set{P}_{\\text{inner}}}\n",
    "\\newcommand {\\xonetok}{\\vec x_{1}, \\cdots, \\vec x_{K}}\n",
    "$\n",
    "By definition, the halfspace defined by each supporting hyperplane contains all of $\\set X$, therefore $\\Pouter$, which is the intersection of all of these halfspaces, will also contain all of $\\set X$, therefore $\\set X \\subseteq \\Pouter$.\n",
    "\n",
    "A convex hull is the smallest set that contains all convex combinations of another set. The points $\\xonetok$ are all in $\\set X$, and all their convex combinations are also in $\\set X$ because $\\set X$ is convex. Therefore all points in ${\\rm{conv}}\\{\\xonetok\\}$ are in $\\set X$ so $\\Pinner \\subseteq \\set X$.\n",
    "\n",
    "<img src=\"hw2prob1section4.jpg\" alt=\"Diagram of supporting planes and convex hull\" width=\"400\"/>"
   ]
  }
 ],
 "metadata": {
  "kernelspec": {
   "display_name": "Python 3",
   "language": "python",
   "name": "python3"
  },
  "language_info": {
   "codemirror_mode": {
    "name": "ipython",
    "version": 3
   },
   "file_extension": ".py",
   "mimetype": "text/x-python",
   "name": "python",
   "nbconvert_exporter": "python",
   "pygments_lexer": "ipython3",
   "version": "3.6.4"
  }
 },
 "nbformat": 4,
 "nbformat_minor": 2
}
