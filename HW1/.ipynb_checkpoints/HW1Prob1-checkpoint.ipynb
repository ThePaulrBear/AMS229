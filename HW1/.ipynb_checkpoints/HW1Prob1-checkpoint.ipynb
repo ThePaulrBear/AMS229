{
 "cells": [
  {
   "cell_type": "markdown",
   "metadata": {
    "collapsed": true,
    "nbgrader": {
     "grade": false,
     "grade_id": "cell-82ef2c2792a01bb4",
     "locked": true,
     "schema_version": 1,
     "solution": false
    }
   },
   "source": [
    "# Positive semidefinite matrices\n",
    "\n",
    "A real $n\\times n$ matrix $X$ is called positive semidefinite (resp. positive definite) if it satisfies\n",
    "$$ X = X^{\\top}, \\quad v^{\\top} X v \\geq (\\text{resp.} >) \\, 0, \\qquad \\forall \\, v \\in \\mathbb{R}^{n}.$$"
   ]
  },
  {
   "cell_type": "markdown",
   "metadata": {
    "nbgrader": {
     "grade": false,
     "grade_id": "cell-3c6adf218161f955",
     "locked": true,
     "schema_version": 1,
     "solution": false
    }
   },
   "source": [
    "## Eigenvalues\n",
    "\n",
    "Prove that all eigenvalues of $X$ are $\\geq 0$ for positive semidefinite case, and $>0$ for positive definite case."
   ]
  },
  {
   "cell_type": "markdown",
   "metadata": {
    "nbgrader": {
     "grade": false,
     "grade_id": "cell-0d7e0dbd1c80b290",
     "locked": true,
     "schema_version": 1,
     "solution": false
    }
   },
   "source": [
    "## The set $\\mathbb{S}_{+}^{n}$\n",
    "\n",
    "Let $\\mathbb{S}_{+}^{n}$ denote the set of all $n\\times n$ positive semidefinite matrices. Prove that $\\mathbb{S}_{+}^{n}$ is a convex cone.\n",
    "\n",
    "(Hint: Choose some arbitrary positive integer $m$. Then from the definition of positive semidefiniteness, prove that for any $X_{1}, X_{2}, ..., X_{m} \\in \\mathbb{S}_{+}^{n}$, and $\\alpha_{1}, \\alpha_{2}, ..., \\alpha_{m} \\geq 0$, the matrix $\\sum_{i=1}^{m}\\alpha_{i}X_{i} \\in \\mathbb{S}_{+}^{n}$.)"
   ]
  },
  {
   "cell_type": "markdown",
   "metadata": {
    "nbgrader": {
     "grade": false,
     "grade_id": "cell-ebc8da5ea74dd4fd",
     "locked": true,
     "schema_version": 1,
     "solution": false
    }
   },
   "source": [
    "## Matrix product\n",
    "\n",
    "Let $A, B \\in \\mathbb{S}_{+}^{n}$. True or false: $AB \\in \\mathbb{S}_{+}^{n}$? If your answer is \"true\", then give a proof. If your answer is \"false\", then give a counterexample. "
   ]
  },
  {
   "cell_type": "markdown",
   "metadata": {
    "nbgrader": {
     "grade": false,
     "grade_id": "cell-8d1183c45e88b82c",
     "locked": true,
     "schema_version": 1,
     "solution": false
    }
   },
   "source": [
    "## Hadamard product\n",
    "\n",
    "Let $A, B \\in \\mathbb{S}_{+}^{n}$. The Hadamard product $A\\odot B$ is defined as the element-wise product: $(A\\odot B)_{ij} := a_{ij}b_{ij}$. True or false: $A\\odot B \\in \\mathbb{S}_{+}^{n}$? If your answer is \"true\", then give a proof. If your answer is \"false\", then give a counterexample. "
   ]
  },
  {
   "cell_type": "code",
   "execution_count": null,
   "metadata": {
    "collapsed": true
   },
   "outputs": [],
   "source": []
  }
 ],
 "metadata": {
  "celltoolbar": "Create Assignment",
  "kernelspec": {
   "display_name": "Python 2",
   "language": "python",
   "name": "python2"
  },
  "language_info": {
   "codemirror_mode": {
    "name": "ipython",
    "version": 2
   },
   "file_extension": ".py",
   "mimetype": "text/x-python",
   "name": "python",
   "nbconvert_exporter": "python",
   "pygments_lexer": "ipython2",
   "version": "2.7.14"
  }
 },
 "nbformat": 4,
 "nbformat_minor": 2
}
