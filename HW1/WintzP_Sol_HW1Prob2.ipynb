{
 "cells": [
  {
   "cell_type": "markdown",
   "metadata": {},
   "source": [
    "[comment]: Definitions\n",
    "$\\newcommand{\\A}{A}\n",
    "\\newcommand{\\Amatrix}{\n",
    "\\begin{bmatrix}\n",
    "1 & 2 \\\\\n",
    "-2 &  1\n",
    "\\end{bmatrix}}\n",
    "\\newcommand{\\x}{\\mathbf x}\n",
    "\\newcommand{\\trans}{^ \\intercal}\n",
    "\\newcommand{\\xtrans}{\\mathbf x \\trans}\n",
    "\\newcommand {\\S}{\\mathcal{S}}\n",
    "\\newcommand {\\C}{\\mathcal{C}}\n",
    "$\n"
   ]
  },
  {
   "cell_type": "markdown",
   "metadata": {},
   "source": [
    "# (3 x 10 = 30) Which of the following sets are convex? In each case, give detailed reasons for your answer."
   ]
  },
  {
   "cell_type": "markdown",
   "metadata": {},
   "source": [
    "(a) Solution set of quadratic inequality, i.e., $\\{x \\in \\mathbb{R}^{n} \\:\\mid\\: x^{\\top}Ax + b^{\\top}x + c \\leq 0, \\quad A\\in\\mathbb{S}^{n}_{+}, \\quad b\\in\\mathbb{R}^{n}, \\quad c\\in\\mathbb{R} \\}$."
   ]
  },
  {
   "cell_type": "markdown",
   "metadata": {},
   "source": [
    "**Convex.** By examining the 1D and 2D cases, I think $\\{x \\in \\mathbb{R}^{n} \\: x^{\\top}Ax \\leq 0, \\quad A\\in\\mathbb{S}^{n}_{+} \\}$ forms a parabaloid, which would be convex, but I am having diffifulting showing it analytically. The $b^\\top + c$ terms are an affine transformation, so (assuming my guess is true) the set remains convex. "
   ]
  },
  {
   "cell_type": "markdown",
   "metadata": {},
   "source": [
    "(b) Hyperbolic set, i.e., $\\{x \\in \\mathbb{R}^{n}_{+} \\: \\mid \\: \\displaystyle\\prod_{i=1}^{n}x_{i} \\geq 1\\}.$"
   ]
  },
  {
   "cell_type": "markdown",
   "metadata": {},
   "source": [
    "**Not Convex**. The 2D hyperbolic set contains the vector $ \\xtrans  = \\begin{bmatrix}1 & 1\\end{bmatrix} $ as well as $ -\\xtrans = \\begin{bmatrix}-1 -1\\end{bmatrix} $. If we take the convex combination of $\\x$ and $-\\x$, however, and let $\\theta = 0.5$, the result is \n",
    "\n",
    "$$ \\theta \\x + (1 - \\theta) (-\\x) = (2 \\theta - 1) \\x =0 \\x = \\begin{bmatrix}0 \\\\ 0 \\end{bmatrix} $$\n",
    "\n",
    "The $\\mathbf{0}$ vector is clearly not in the set, so the set is not convex. "
   ]
  },
  {
   "cell_type": "markdown",
   "metadata": {},
   "source": [
    "(c) A slab, i.e., $S = \\{x \\in \\mathbb{R}^{n} \\:\\mid\\: \\alpha \\leq a^{\\top}x \\leq \\beta, \\quad a\\in\\mathbb{R}^{n}, \\quad \\alpha,\\beta\\in\\mathbb{R}\\}$."
   ]
  },
  {
   "cell_type": "markdown",
   "metadata": {},
   "source": [
    "**Convex**\n",
    "\n",
    "Take $x_1, x_2 \\in S$ and $0 \\leq \\theta \\leq 1 $. We know \n",
    "\n",
    "$$\n",
    "\\begin{align}\n",
    "\\alpha &\\leq a \\trans x_1 \\leq \\beta \\\\\n",
    "\\theta \\alpha &\\leq \\theta a \\trans x_1 \\leq \\theta \\beta\n",
    "\\end{align} \n",
    "$$ \n",
    "\n",
    "and \n",
    "\n",
    "$$\n",
    "\\begin{align}\n",
    "\\alpha &\\leq a \\trans x_2 \\leq \\beta \\\\\n",
    "(1 - \\theta) \\alpha &\\leq (1 - \\theta) a \\trans x_2 \\leq (1 - \\theta) \\beta\n",
    "\\end{align} \n",
    "$$ \n",
    "\n",
    "By adding these inequalities, we get\n",
    "\n",
    "$$\n",
    "\\begin{align}\n",
    "\\theta \\alpha + (1 - \\theta) \\alpha &\\leq \\theta a \\trans x_1 + (1 - \\theta) a \\trans x_2  \\leq \\theta \\beta +  (1 - \\theta) \\beta \\\\\n",
    "\\alpha &\\leq a \\trans (\\theta x_1 + (1 - \\theta) x_2)  \\leq \\beta\n",
    "\\end{align} \n",
    "$$\n",
    "\n",
    "Therefore the convex combination of any two elements in $S$ is also in $S$, so $S$ is convex."
   ]
  },
  {
   "cell_type": "markdown",
   "metadata": {},
   "source": [
    "(d) A rectangle, i.e., $S = \\{x\\in \\mathbb{R}^{n}\\:\\mid\\: \\alpha \\leq x \\leq \\beta, \\quad \\alpha,\\beta\\in\\mathbb{R}^{n}, \\quad \\text{vector inequality is elementwise}\\}$."
   ]
  },
  {
   "cell_type": "markdown",
   "metadata": {
    "scrolled": true
   },
   "source": [
    "**Convex.**\n",
    "\n",
    "Take $x_1, x_2 \\in S$ and $0 \\leq \\theta \\leq 1 $. We know \n",
    "\n",
    "$$\n",
    "\\begin{align}\n",
    "\\alpha &\\leq x_1 \\leq \\beta \\\\\n",
    "\\theta \\alpha &\\leq \\theta x_1 \\leq \\theta \\beta\n",
    "\\end{align} \n",
    "$$ \n",
    "\n",
    "and \n",
    "\n",
    "$$\n",
    "\\begin{align}\n",
    "\\alpha &\\leq x_2 \\leq \\beta \\\\\n",
    "(1 - \\theta) \\alpha &\\leq (1 - \\theta) x_2 \\leq (1 - \\theta) \\beta\n",
    "\\end{align} \n",
    "$$ \n",
    "\n",
    "By adding these inequalities, we get\n",
    "\n",
    "$$\n",
    "\\begin{align}\n",
    "\\theta \\alpha + (1 - \\theta) \\alpha &\\leq \\theta x_1 + (1 - \\theta) x_2  \\leq \\theta \\beta +  (1 - \\theta) \\beta \\\\\n",
    "\\alpha &\\leq (\\theta x_1 + (1 - \\theta) x_2)  \\leq \\beta\n",
    "\\end{align} \n",
    "$$\n",
    "\n",
    "Therefore the convex combination of any two elements in $S$ is also in $S$, so $S$ is convex."
   ]
  },
  {
   "cell_type": "markdown",
   "metadata": {},
   "source": [
    "(e) A wedge, i.e., $\\{x\\in\\mathbb{R}^{n} \\:\\mid\\: a_{1}^{\\top}x \\leq b_{1}, \\quad a_{2}^{\\top}x \\leq b_{2}, \\quad a_{1},a_{2}\\in\\mathbb{R}^{n}, \\quad b_{1},b_{2}\\in\\mathbb{R}\\}$."
   ]
  },
  {
   "cell_type": "markdown",
   "metadata": {},
   "source": [
    "**Convex**\n",
    "\n",
    "A wedge is the intersection of two half spaces, which are both convex, therfore this set is convex. "
   ]
  },
  {
   "cell_type": "markdown",
   "metadata": {},
   "source": [
    "(f) Set of points closer to a given point than a given set, i.e., $\\{x\\in\\mathbb{R}^{n} \\:\\mid\\: \\parallel x - x_{0}\\parallel_{2} \\:\\leq\\: \\parallel x - y\\parallel_{2}, \\quad \\forall\\:y\\in\\mathcal{S}\\subseteq\\mathbb{R}^{n}, \\quad x_{0}\\in\\mathbb{R}^{n}\\}$."
   ]
  },
  {
   "cell_type": "markdown",
   "metadata": {},
   "source": [
    "**Convex.** For each point $y \\in S$, there is a halfspace with a boundary that lies halfway between $x_0$ and $y$ and contains the half of $\\mathbb{R}^n$ that is closer to $x_0$ than $y$. The interesection of all these halfspaces equals the set $\\C$, and we know that the (possibily infinite) intersection of convex sets is also convex. "
   ]
  },
  {
   "cell_type": "markdown",
   "metadata": {},
   "source": [
    "(g) Set of points closer to one set than another, i.e., $\\mathcal{C} = \\{x\\in\\mathbb{R}^{n} \\:\\mid\\: {\\rm{dist}}(x,\\mathcal{S})\\leq {\\rm{dist}}(x,\\mathcal{T}), \\quad \\mathcal{S},\\mathcal{T}\\subseteq\\mathbb{R}^{n}\\},\\quad$and$\\quad{\\rm{dist}}(x,\\mathcal{S}) := \\inf\\{\\parallel x - z \\parallel_{2} \\:\\mid\\: z\\in\\mathcal{S}\\}$."
   ]
  },
  {
   "cell_type": "markdown",
   "metadata": {},
   "source": [
    "**Not convex.**\n",
    "$\n",
    "\\newcommand{\\S}{\\mathcal{S}}\n",
    "\\newcommand{\\T}{\\mathcal{T}}\n",
    "\\newcommand{\\C}{\\mathcal{C} }\n",
    "$\n",
    "Counterexample: If we take the set $\\T = {[-1, 0]\\trans, [1, 0]\\trans}$ and the set $\\S = {[0,0]\\trans}$, then the points $[-1, 0]\\trans$, and $[1, 0]\\trans$ are in $\\C$, but $[0, 0]\\trans$ is not. We see, if we take the convex combination of two points in $\\C$, with $\\theta = 0.5 \\notin \\C$, the result is not in $C$: \n",
    "\n",
    "$$0.5[-1, 0]\\trans + (1 - 0.5) [1, 0]\\trans = [0, 0]\\trans$$\n",
    "\n",
    "Therefore $\\C$ is not convex."
   ]
  },
  {
   "cell_type": "markdown",
   "metadata": {},
   "source": [
    "(h) Subtraction from a convex set, i.e., $\\{x\\in\\mathbb{R}^{n} \\:\\mid\\: x +\\mathcal{S}_{2} \\subseteq \\mathcal{S}_{1}, \\quad \\mathcal{S}_{1},\\mathcal{S}_{2}\\subseteq\\mathbb{R}^{n}, \\quad \\mathcal{S}_{1}\\,\\text{convex}\\}$."
   ]
  },
  {
   "cell_type": "markdown",
   "metadata": {},
   "source": [
    "**??**\n",
    "\n",
    "..."
   ]
  },
  {
   "cell_type": "markdown",
   "metadata": {},
   "source": [
    "(i) Set of points whose distance to a given point ($a\\in\\mathbb{R}^{n}$) does not exceed a fixed fraction ($0\\leq \\theta\\leq 1$) of the distance to another given point ($b\\in\\mathbb{R}^{n}$), i.e., $\\{x\\in\\mathbb{R}^{n} \\:\\mid\\: \\parallel x - a \\parallel_{2} \\:\\leq\\: \\theta\\parallel x - b \\parallel_{2}, \\quad a\\neq b\\}$."
   ]
  },
  {
   "cell_type": "markdown",
   "metadata": {},
   "source": [
    "**Convex.**\n",
    "\n",
    "If $\\theta=0$, then the set is only the point $a$, which is convex. If $\\theta = 1$, the set is the halfspace with a boundary plane that is perpendicular to the line between the points. For $0 < \\theta < 1$, the set is a oval (possibily an ellipse). "
   ]
  },
  {
   "cell_type": "markdown",
   "metadata": {},
   "source": [
    "(j) Expansion of a convex set by $a\\geq 0$, i.e., $\\{x\\in\\mathbb{R}^{n} \\:\\mid\\: {\\rm{dist}}(x,\\mathcal{S})\\leq a, \\quad \\mathcal{S}\\,\\text{convex}\\}$."
   ]
  },
  {
   "cell_type": "markdown",
   "metadata": {
    "collapsed": true
   },
   "source": [
    "**Convex**\n",
    "\n",
    "..."
   ]
  }
 ],
 "metadata": {
  "kernelspec": {
   "display_name": "Python 3",
   "language": "python",
   "name": "python3"
  },
  "language_info": {
   "codemirror_mode": {
    "name": "ipython",
    "version": 3
   },
   "file_extension": ".py",
   "mimetype": "text/x-python",
   "name": "python",
   "nbconvert_exporter": "python",
   "pygments_lexer": "ipython3",
   "version": "3.6.4"
  }
 },
 "nbformat": 4,
 "nbformat_minor": 2
}
