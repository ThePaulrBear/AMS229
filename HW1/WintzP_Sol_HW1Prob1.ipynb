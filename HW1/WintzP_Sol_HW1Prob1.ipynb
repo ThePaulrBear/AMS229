{
 "cells": [
  {
   "cell_type": "markdown",
   "metadata": {},
   "source": [
    "[comment]: Definitions\n",
    "$\\newcommand{\\A}{A}$\n",
    "$\\newcommand{\\B}{B}$\n",
    "$\\newcommand{\\Amatrix}{\n",
    "\\begin{bmatrix}\n",
    "1 & 2 \\\\\n",
    "-2 &  1\n",
    "\\end{bmatrix}}$\n",
    "$\\newcommand{\\x}{\\mathbf x}$\n",
    "$\\newcommand{\\xtrans}{\\mathbf x ^ \\intercal}$\n",
    "\n",
    "$\\newcommand{\\psdmats}{\\mathbb{S}_{+}^{n}}$"
   ]
  },
  {
   "cell_type": "markdown",
   "metadata": {
    "collapsed": true,
    "nbgrader": {
     "grade": false,
     "grade_id": "cell-82ef2c2792a01bb4",
     "locked": true,
     "schema_version": 1,
     "solution": false
    }
   },
   "source": [
    "# Positive semidefinite matrices\n",
    "\n",
    "A real $n\\times n$ matrix $X$ is called positive semidefinite (resp. positive definite) if it satisfies\n",
    "$$ X = X^{\\top}, \\quad v^{\\top} X v \\geq (\\text{resp.} >) \\, 0, \\qquad \\forall \\, v \\in \\mathbb{R}^{n}.$$"
   ]
  },
  {
   "cell_type": "markdown",
   "metadata": {
    "nbgrader": {
     "grade": true,
     "grade_id": "cell-3c6adf218161f955",
     "locked": false,
     "points": 10,
     "schema_version": 1,
     "solution": true
    }
   },
   "source": [
    "## Eigenvalues                                                              \n",
    "\n",
    "(10 points) Prove that all eigenvalues of $X$ are $\\geq 0$ for positive semidefinite case, and $>0$ for positive definite case."
   ]
  },
  {
   "cell_type": "markdown",
   "metadata": {},
   "source": [
    "### Answer \n",
    "\n",
    "If $Q(x) = \\mathbf{x}^\\intercal \\mathbf{A} \\mathbf{x}$ and $ \\mathbf{A}$ is positive definite, then $Q(x) > 0$.\n",
    "\n",
    "If $ \\lambda $ is an eigenvalue and $ \\mathbf x $ is the corresponding eigenvector, then $ \\mathbf A \\mathbf x = \\lambda \\mathbf x$, so $\\mathbf x ^ \\intercal \\mathbf A \\mathbf x = \\mathbf x ^ \\intercal \\lambda \\mathbf x =  \\lambda \\mathbf x ^ \\intercal \\mathbf x $.\n",
    "\n",
    "The quantity $ \\mathbf x ^ \\intercal \\mathbf x $ is the inner product of $ \\mathbf x $, which is always positive unless the vector $ \\mathbf x $ is zero, which it cannot be by the definition of eigenvectors.\n",
    "\n",
    "Therefore, if $ \\mathbf x ^ \\intercal \\mathbf A  \\mathbf x > 0 $, then $ \\lambda > 0 $, so the eigenvalues of a positive definite matrix are all positive. \n",
    "\n",
    "The same proof holds for positive semidefinitive matrices by replacing all \"$>$\" signs with \"$\\geq$\"."
   ]
  },
  {
   "cell_type": "markdown",
   "metadata": {
    "nbgrader": {
     "grade": true,
     "grade_id": "cell-0d7e0dbd1c80b290",
     "locked": false,
     "points": 10,
     "schema_version": 1,
     "solution": true
    }
   },
   "source": [
    "## The set $\\mathbb{S}_{+}^{n}$\n",
    "\n",
    "(10 points) Let $\\mathbb{S}_{+}^{n}$ denote the set of all $n\\times n$ positive semidefinite matrices. Prove that $\\mathbb{S}_{+}^{n}$ is a convex cone.\n",
    "\n",
    "(Hint: Choose some arbitrary positive integer $m$. Then from the definition of positive semidefiniteness, prove that for any $X_{1}, X_{2}, ..., X_{m} \\in \\mathbb{S}_{+}^{n}$, and $\\alpha_{1}, \\alpha_{2}, ..., \\alpha_{m} \\geq 0$, the matrix $\\sum_{i=1}^{m}\\alpha_{i}X_{i} \\in \\mathbb{S}_{+}^{n}$.)"
   ]
  },
  {
   "cell_type": "markdown",
   "metadata": {},
   "source": [
    "### Answer\n",
    "Take $ X_1, \\cdots, X_m \\in \\psdmats$. If we take the conic convex combination, $C = \\sum_{i=1}^{m} \\theta_i X_i$, where  $ \\theta_i \\geq 0$. We can then test whether $ \\xtrans C \\x \\geq 0 $. \n",
    "\n",
    "$$\n",
    "\\begin{split}\n",
    "\\xtrans C \\x  & = \\xtrans(\\theta_1X_1 + \\cdots + \\theta_m X_m) x \\\\\n",
    "& = \\theta_1 \\xtrans X_1 \\x + \\cdots + \\theta_m \\xtrans X_M \\x \\\\\n",
    "& = \\sum_{i=1}^{m} \\theta_i \\xtrans X_i \\x \n",
    "\\end{split}\n",
    "$$\n",
    "\n",
    "We know that $\\theta_i \\geq 0$ and $ \\xtrans X_i \\x $, therefore every term in the product is greater than or equal to zero, so $ C \\in \\psdmats$ and $\\psdmats$ is a convex cone."
   ]
  },
  {
   "cell_type": "markdown",
   "metadata": {
    "nbgrader": {
     "grade": true,
     "grade_id": "cell-ebc8da5ea74dd4fd",
     "locked": false,
     "points": 10,
     "schema_version": 1,
     "solution": true
    }
   },
   "source": [
    "## Matrix product\n",
    "\n",
    "(10 points) Let $A, B \\in \\mathbb{S}_{+}^{n}$. True or false: $AB \\in \\mathbb{S}_{+}^{n}$? If your answer is \"true\", then give a proof. If your answer is \"false\", then give a counterexample."
   ]
  },
  {
   "cell_type": "markdown",
   "metadata": {},
   "source": [
    "### Answer\n",
    "**False.** Counterexample: \n",
    "$\n",
    "\\newcommand{\\Amat}{\\begin{bmatrix} 1 & 1 \\\\ 1 & 1 \\end{bmatrix}}\n",
    "\\newcommand{\\Bmat}{\\begin{bmatrix} 1 & 2 \\\\ 2 & 4 \\end{bmatrix}}\n",
    "\\newcommand{\\xtransmat}{\\begin{bmatrix} a & b \\end{bmatrix}}\n",
    "$\n",
    "\n",
    "Take $ \\A = \\Amat, \\B = \\Bmat, \\xtrans = \\xtransmat$:\n",
    "\n",
    "$$\\xtrans \\A \\x = (a + b)^2 \\geq 0, \\quad \\forall a, b \\in \\mathbb{R} $$\n",
    "$$\\xtrans \\B \\x = (a + 2b)^2 \\geq 0, \\quad \\forall a, b \\in \\mathbb{R} $$\n",
    "\n",
    "So $ A, B \\in \\psdmats$\n",
    "\n",
    "\n",
    "If we take the $\\A \\B$, however, we get $ AB = \\begin{bmatrix}3 & 3 \\\\ 6 & 6\\end{bmatrix} \\notin \\psdmats$ because $AB$ is not symetrical. \n",
    "\n",
    "We then see, then, that the product of two symetric positive semidefinite matices can be non-symetric, and therefore not in $\\psdmats$."
   ]
  },
  {
   "cell_type": "markdown",
   "metadata": {
    "nbgrader": {
     "grade": true,
     "grade_id": "cell-8d1183c45e88b82c",
     "locked": false,
     "points": 10,
     "schema_version": 1,
     "solution": true
    }
   },
   "source": [
    "## Hadamard product\n",
    "\n",
    "(10 points) Let $A, B \\in \\mathbb{S}_{+}^{n}$. The Hadamard product $A\\odot B$ is defined as the element-wise product: $(A\\odot B)_{ij} := a_{ij}b_{ij}$. True or false: $A\\odot B \\in \\mathbb{S}_{+}^{n}$? If your answer is \"true\", then give a proof. If your answer is \"false\", then give a counterexample."
   ]
  },
  {
   "cell_type": "markdown",
   "metadata": {
    "collapsed": true
   },
   "source": [
    "### Answer\n",
    "\n",
    "[Note: I did not know initally that members of $\\psdmats$ must be symetric, so the following work is erroneous and I ran out of time to find a correct proof or counterexample.]\n",
    "\n",
    "**False.** If we use the matrix $ A = \\begin{bmatrix} 1 & 2 \\\\ -2 &  1 \\end{bmatrix}$, then $\\xtrans \\A \\x = a^2 + b^2$, so $A \\in \\psdmats$. However, $A \\odot A = \\begin{bmatrix} 1 & 4 \\\\ 4 & 1 \\end{bmatrix} $ is not positive semidefinte. We show this with the vector $ \\xtrans = \\begin{bmatrix} -1 & 1 \\end{bmatrix}$, which gives us:\n",
    "\n",
    "$$\n",
    "\\begin{bmatrix}-1 & 1\\end{bmatrix}\n",
    "\\begin{bmatrix} 1 & 4 \\\\\n",
    "                4 & 1 \\end{bmatrix}\n",
    "\\begin{bmatrix}-1 \\\\ 1\\end{bmatrix} = -6\n",
    "$$\n",
    "\n",
    "Therefore we have found two matrices $A, B \\in \\mathbb{S}_{+}^{n}$, (where $B = A$), such that $A \\odot B \\notin \\mathbb{S}_{+}^{n}$"
   ]
  }
 ],
 "metadata": {
  "celltoolbar": "Create Assignment",
  "kernelspec": {
   "display_name": "Python 3",
   "language": "python",
   "name": "python3"
  },
  "language_info": {
   "codemirror_mode": {
    "name": "ipython",
    "version": 3
   },
   "file_extension": ".py",
   "mimetype": "text/x-python",
   "name": "python",
   "nbconvert_exporter": "python",
   "pygments_lexer": "ipython3",
   "version": "3.6.4"
  }
 },
 "nbformat": 4,
 "nbformat_minor": 2
}
