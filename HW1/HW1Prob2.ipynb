{
 "cells": [
  {
   "cell_type": "markdown",
   "metadata": {},
   "source": [
    "[comment]: Definitions\n",
    "$\\newcommand{\\A}{A}\n",
    "\\newcommand{\\Amatrix}{\n",
    "\\begin{bmatrix}\n",
    "1 & 2 \\\\\n",
    "-2 &  1\n",
    "\\end{bmatrix}}\n",
    "\\newcommand{\\x}{\\mathbf x}\n",
    "\\newcommand{\\trans}{^ \\intercal}\n",
    "\\newcommand{\\xtrans}{\\mathbf x \\trans}\n",
    "\\newcommand {\\S}{\\mathcal{S}}\n",
    "\\newcommand {\\C}{\\mathcal{C}}\n",
    "$\n",
    "$ \n",
    "% General Latex Definitions\n",
    "\\newcommand {\\vec}{\\mathbf} % Vector variable\n",
    "\\newcommand {\\mat}{} % Matrix variable\n",
    "\\newcommand {\\set}{\\mathcal} % Set name\n",
    "\\newcommand{\\invs}{^{-1}}\n",
    "\\newcommand{\\trans}{^ \\top} % \\intercal} % Vector or matrix transpose notation (\\intercal is an alternative)\n",
    "\\newcommand{\\suchthat}{\\mid} %Alternative: \\mathrel{} \\middle| \\mathrel{} \n",
    "\\newcommand {\\definedas}{:=}\n",
    "\\newcommand {\\arctan}{\\text{tan}^{-1}}\n",
    "\\newcommand {\\norm}[1]{||#1||_2}\n",
    "\\newcommand {\\abs}[1]{|#1|}\n",
    "\\newcommand {\\for}{\\text{for}\\;}\n",
    "% Sets\n",
    "\\newcommand {\\reals}{\\mathbb{R}}\n",
    "\\newcommand {\\realsn}{\\reals^{n}}\n",
    "\\newcommand {\\positivereals}{\\reals_{>0}}\n",
    "\\newcommand {\\integers}{\\mathbb{Z}}\n",
    "\\newcommand \\squarematrices[1][n]{\\reals^{#1 \\times #1}}\n",
    "\\newcommand \\symmetricmatrices[1][n]{\\mathbb{S}^{#1}}\n",
    "\\newcommand \\pdmatrices[1][n]{\\symmetricmatrices[#1]_{++}}\n",
    "\\newcommand \\psdmatrices[1][n]{\\symmetricmatrices[#1]_{+}}\n",
    "% Common vectors. If a value is a variable don't use the \"\\\"\n",
    "\\newcommand {\\x}{\\vec x}\n",
    "\\newcommand {\\y}{\\vec y} \n",
    "\\newcommand {\\u}{\\vec u}\n",
    "\\newcommand {\\v}{\\vec v}\n",
    "% Common Matrices\n",
    "\\newcommand {\\A}{\\mat A} \n",
    "\\newcommand {\\B}{\\mat B}\n",
    "\\newcommand {\\X}{\\mat X} \n",
    "\\newcommand {\\Y}{\\mat Y}\n",
    "\\newcommand {\\I}{\\mat I} % Identity\n",
    "% Calculus\n",
    "\\newcommand {\\derive}[2]{\\frac{d#1}{d#2}}\n",
    "\\newcommand {\\ddx}{\\derive{}{x}}\n",
    "\\newcommand {\\dxdt}{\\derive{x}{t}}\n",
    "\\newcommand {\\dfdx}{\\derive{f}{x}}\n",
    "\\newcommand {\\del}{\\nabla}\n",
    "\\newcommand {\\hessian}{\\del^2}\n",
    "% Convex Optimizations\n",
    "\\newcommand \\convexcombo[2]{\\theta #1 + (1 - \\theta)#2}\n",
    "$"
   ]
  },
  {
   "cell_type": "markdown",
   "metadata": {},
   "source": [
    "# (3 x 10 = 30) Which of the following sets are convex? In each case, give detailed reasons for your answer."
   ]
  },
  {
   "cell_type": "markdown",
   "metadata": {
    "heading_collapsed": true
   },
   "source": [
    "### (a) \n",
    "Solution set of quadratic inequality, i.e., $\\set S = \\{x \\in \\mathbb{R}^{n} \\:\\mid\\: x^{\\top}Ax + b^{\\top}x + c \\leq 0, \\quad A\\in\\mathbb{S}^{n}_{+}, \\quad b\\in\\mathbb{R}^{n}, \\quad c\\in\\mathbb{R} \\}$."
   ]
  },
  {
   "cell_type": "markdown",
   "metadata": {
    "hidden": true
   },
   "source": [
    "**Convex.** By examining the 1D and 2D cases, I think $\\{x \\in \\mathbb{R}^{n} \\: x^{\\top}Ax \\leq 0, \\quad A\\in\\mathbb{S}^{n}_{+} \\}$ forms a parabaloid, which would be convex, but I am having diffifulting showing it analytically. The $b^\\top + c$ terms are an affine transformation, so (assuming my guess is true) the set remains convex. "
   ]
  },
  {
   "cell_type": "markdown",
   "metadata": {
    "hidden": true
   },
   "source": [
    "Take an arbitrary line in the set, $\\set L = \\{\\x + t \\v \\suchthat t \\in reals\\}$. If ever intersection of $\\set L$ and $\\S$ is convex, then $\\S$ is convex. That is, a point in $\\S$ and in $\\set L$, so \n",
    "\n",
    "$$\\begin{align}\n",
    "(\\x + t \\v)\\trans A (\\x + t \\v) + \\vec b \\trans (\\x + t\\v) + c &= \\\\\n",
    "\\xtrans A \\x + 2 t\\v\\trans A \\x + t^2 \\v\\trans A \\v\n",
    "    + \\vec b \\trans \\x + t \\vec b \\trans \\v  \n",
    "    + c &= \\\\\n",
    "t^2 (\\v\\trans A \\v)\n",
    "    + t (2 \\v\\trans A \\x + \\vec b \\trans \\v)\n",
    "    + (\\x\\trans A \\x + \\vec b \\trans \\x + + c) &= \\\\\n",
    "t^2 \\alpha\n",
    "    + t \\beta\n",
    "    + \\gamma &= \\\\\n",
    "&\\leq 0.\n",
    "\\end{align}$$ \n",
    "\n",
    "Therefore, the intersection of sets $\\set L$ and $\\S$ is \n",
    "\n",
    "$$\\{\\x + t\\v \\suchthat t^2 \\alpha + t \\beta + \\gamma \\leq 0 \\}$$\n",
    "\n",
    "This set is convex *in t* when $\\alpha$ is non-positive than zero, because that results in an upward facing parabola (or straight line, for $\\alpha = 0$. Furthermore, $\\alpha$ is nonpositive when $\\v\\trans A \\v \\geq 0$, which is always true because A is positive semidefinite.\n",
    "\n",
    "Therefore $\\S$ is convex. "
   ]
  },
  {
   "cell_type": "markdown",
   "metadata": {
    "hidden": true
   },
   "source": [
    "#### Abhishek's Solution:\n",
    "Convex. We will prove this using the following property: a set is convex if and only if its intersection with an arbitrary line $\\{\\widehat{x}+tv \\:\\mid\\: t\\in \\mathbb{R}\\}$ is convex. \n",
    "\n",
    "We have\n",
    "$$ (\\widehat{x}+tv)^{\\top}A(\\widehat{x}+tv) \\:+\\: b^{\\top}(\\widehat{x}+tv) \\:+\\: c = \\alpha t^{2} + \\beta t + \\gamma, $$\n",
    "where\n",
    "$$ \\alpha = v^{\\top}Av, \\qquad \\beta = b^{\\top}v + 2\\widehat{x}^{\\top}Av, \\qquad \\gamma = c + b^{\\top}\\widehat{x} + \\widehat{x}^{\\top}A \\widehat{x}.$$\n",
    "\n",
    "The intersection of our set of interest with the line defined by $\\widehat{x}$ and $v$, is the set\n",
    "$$ \\{\\widehat{x} + tv \\:\\mid\\: \\alpha t^{2} + \\beta t + \\gamma \\:\\leq\\: 0\\}, $$\n",
    "which is convex if $\\alpha \\geq 0$. This is true for any vector $v$ if $v^{\\top}Av\\geq 0$, i.e., when $A \\in \\mathbb{S}^{n}_{+}$, which is what we have. Hence our set of interest is convex."
   ]
  },
  {
   "cell_type": "markdown",
   "metadata": {},
   "source": [
    "### (b)\n",
    "Hyperbolic set, i.e., $\\{x \\in \\mathbb{R}^{n}_{+} \\: \\mid \\: \\displaystyle\\prod_{i=1}^{n}x_{i} \\geq 1\\}.$"
   ]
  },
  {
   "cell_type": "markdown",
   "metadata": {},
   "source": [
    "**Not Convex**. The 2D hyperbolic set contains the vector $ \\xtrans  = \\begin{bmatrix}1 & 1\\end{bmatrix} $ as well as $ -\\xtrans = \\begin{bmatrix}-1 -1\\end{bmatrix} $. If we take the convex combination of $\\x$ and $-\\x$, however, and let $\\theta = 0.5$, the result is \n",
    "\n",
    "$$ \\theta \\x + (1 - \\theta) (-\\x) = (2 \\theta - 1) \\x =0 \\x = \\begin{bmatrix}0 \\\\ 0 \\end{bmatrix} $$\n",
    "\n",
    "The $\\mathbf{0}$ vector is clearly not in the set, so the set is not convex. "
   ]
  },
  {
   "cell_type": "markdown",
   "metadata": {
    "heading_collapsed": true
   },
   "source": [
    "#### Abhishek's Solution:\n",
    "Convex. Let $x, y \\in \\mathbb{R}^{n}_{+}$ such that $\\displaystyle\\prod_{i=1}^{n}x_{i} \\geq 1$, and $\\displaystyle\\prod_{i=1}^{n}y_{i} \\geq 1$. Using the inequality \n",
    "$$ a^{\\theta}b^{1-\\theta} \\leq \\theta a + (1-\\theta) b, \\quad a, b \\geq 0, \\quad 0 \\leq \\theta \\leq 1,$$\n",
    "we have\n",
    "$$ \\displaystyle\\prod_{i=1}^{n} \\left(\\theta x_{i} + (1-\\theta)y_{i}\\right) \\geq \\displaystyle\\prod_{i=1}^{n} x_{i}^{\\theta}y_{i}^{1-\\theta} = \\left(\\displaystyle\\prod_{i=1}^{n}x_{i}\\right)^{\\theta}\\left(\\displaystyle\\prod_{i=1}^{n}y_{i}\\right)^{1-\\theta} \\geq 1.$$\n",
    "\n",
    "* Note that if $a > 1$, then $a^p \\geq 1, \\quad \\forall p \\geq 0$"
   ]
  },
  {
   "cell_type": "markdown",
   "metadata": {},
   "source": [
    "### (c) \n",
    "A slab, i.e., $S = \\{x \\in \\mathbb{R}^{n} \\:\\mid\\: \\alpha \\leq a^{\\top}x \\leq \\beta, \\quad a\\in\\mathbb{R}^{n}, \\quad \\alpha,\\beta\\in\\mathbb{R}\\}$."
   ]
  },
  {
   "cell_type": "markdown",
   "metadata": {},
   "source": [
    "**Convex**\n",
    "\n",
    "Take $x_1, x_2 \\in S$ and $0 \\leq \\theta \\leq 1 $. We know \n",
    "\n",
    "$$\n",
    "\\begin{align}\n",
    "\\alpha &\\leq a \\trans x_1 \\leq \\beta \\\\\n",
    "\\theta \\alpha &\\leq \\theta a \\trans x_1 \\leq \\theta \\beta\n",
    "\\end{align} \n",
    "$$ \n",
    "\n",
    "and \n",
    "\n",
    "$$\n",
    "\\begin{align}\n",
    "\\alpha &\\leq a \\trans x_2 \\leq \\beta \\\\\n",
    "(1 - \\theta) \\alpha &\\leq (1 - \\theta) a \\trans x_2 \\leq (1 - \\theta) \\beta\n",
    "\\end{align} \n",
    "$$ \n",
    "\n",
    "By adding these inequalities, we get\n",
    "\n",
    "$$\n",
    "\\begin{align}\n",
    "\\theta \\alpha + (1 - \\theta) \\alpha &\\leq \\theta a \\trans x_1 + (1 - \\theta) a \\trans x_2  \\leq \\theta \\beta +  (1 - \\theta) \\beta \\\\\n",
    "\\alpha &\\leq a \\trans (\\theta x_1 + (1 - \\theta) x_2)  \\leq \\beta\n",
    "\\end{align} \n",
    "$$\n",
    "\n",
    "Therefore the convex combination of any two elements in $S$ is also in $S$, so $S$ is convex."
   ]
  },
  {
   "cell_type": "markdown",
   "metadata": {},
   "source": [
    "(d) A rectangle, i.e., $S = \\{x\\in \\mathbb{R}^{n}\\:\\mid\\: \\alpha \\leq x \\leq \\beta, \\quad \\alpha,\\beta\\in\\mathbb{R}^{n}, \\quad \\text{vector inequality is elementwise}\\}$."
   ]
  },
  {
   "cell_type": "markdown",
   "metadata": {
    "scrolled": true
   },
   "source": [
    "**Convex.**\n",
    "\n",
    "Take $x_1, x_2 \\in S$ and $0 \\leq \\theta \\leq 1 $. We know \n",
    "\n",
    "$$\n",
    "\\begin{align}\n",
    "\\alpha &\\leq x_1 \\leq \\beta \\\\\n",
    "\\theta \\alpha &\\leq \\theta x_1 \\leq \\theta \\beta\n",
    "\\end{align} \n",
    "$$ \n",
    "\n",
    "and \n",
    "\n",
    "$$\n",
    "\\begin{align}\n",
    "\\alpha &\\leq x_2 \\leq \\beta \\\\\n",
    "(1 - \\theta) \\alpha &\\leq (1 - \\theta) x_2 \\leq (1 - \\theta) \\beta\n",
    "\\end{align} \n",
    "$$ \n",
    "\n",
    "By adding these inequalities, we get\n",
    "\n",
    "$$\n",
    "\\begin{align}\n",
    "\\theta \\alpha + (1 - \\theta) \\alpha &\\leq \\theta x_1 + (1 - \\theta) x_2  \\leq \\theta \\beta +  (1 - \\theta) \\beta \\\\\n",
    "\\alpha &\\leq (\\theta x_1 + (1 - \\theta) x_2)  \\leq \\beta\n",
    "\\end{align} \n",
    "$$\n",
    "\n",
    "Therefore the convex combination of any two elements in $S$ is also in $S$, so $S$ is convex."
   ]
  },
  {
   "cell_type": "markdown",
   "metadata": {},
   "source": [
    "(e) A wedge, i.e., $\\{x\\in\\mathbb{R}^{n} \\:\\mid\\: a_{1}^{\\top}x \\leq b_{1}, \\quad a_{2}^{\\top}x \\leq b_{2}, \\quad a_{1},a_{2}\\in\\mathbb{R}^{n}, \\quad b_{1},b_{2}\\in\\mathbb{R}\\}$."
   ]
  },
  {
   "cell_type": "markdown",
   "metadata": {},
   "source": [
    "**Convex**\n",
    "\n",
    "A wedge is the intersection of two half spaces, which are both convex, therfore this set is convex. "
   ]
  },
  {
   "cell_type": "markdown",
   "metadata": {},
   "source": [
    "(f) Set of points closer to a given point than a given set, i.e., $\\{x\\in\\mathbb{R}^{n} \\:\\mid\\: \\parallel x - x_{0}\\parallel_{2} \\:\\leq\\: \\parallel x - y\\parallel_{2}, \\quad \\forall\\:y\\in\\mathcal{S}\\subseteq\\mathbb{R}^{n}, \\quad x_{0}\\in\\mathbb{R}^{n}\\}$."
   ]
  },
  {
   "cell_type": "markdown",
   "metadata": {},
   "source": [
    "**Convex.** For each point $y \\in S$, there is a halfspace with a boundary that lies halfway between $x_0$ and $y$ and contains the half of $\\mathbb{R}^n$ that is closer to $x_0$ than $y$. The interesection of all these halfspaces equals the set $\\C$, and we know that the (possibily infinite) intersection of convex sets is also convex. "
   ]
  },
  {
   "cell_type": "markdown",
   "metadata": {},
   "source": [
    "(g) Set of points closer to one set than another, i.e., $\\mathcal{C} = \\{x\\in\\mathbb{R}^{n} \\:\\mid\\: {\\rm{dist}}(x,\\mathcal{S})\\leq {\\rm{dist}}(x,\\mathcal{T}), \\quad \\mathcal{S},\\mathcal{T}\\subseteq\\mathbb{R}^{n}\\},\\quad$and$\\quad{\\rm{dist}}(x,\\mathcal{S}) := \\inf\\{\\parallel x - z \\parallel_{2} \\:\\mid\\: z\\in\\mathcal{S}\\}$."
   ]
  },
  {
   "cell_type": "markdown",
   "metadata": {},
   "source": [
    "**Not convex.**\n",
    "$\n",
    "\\newcommand{\\S}{\\mathcal{S}}\n",
    "\\newcommand{\\T}{\\mathcal{T}}\n",
    "\\newcommand{\\C}{\\mathcal{C} }\n",
    "$\n",
    "Counterexample: If we take the set $\\T = {[-1, 0]\\trans, [1, 0]\\trans}$ and the set $\\S = {[0,0]\\trans}$, then the points $[-1, 0]\\trans$, and $[1, 0]\\trans$ are in $\\C$, but $[0, 0]\\trans$ is not. We see, if we take the convex combination of two points in $\\C$, with $\\theta = 0.5 \\notin \\C$, the result is not in $C$: \n",
    "\n",
    "$$0.5[-1, 0]\\trans + (1 - 0.5) [1, 0]\\trans = [0, 0]\\trans$$\n",
    "\n",
    "Therefore $\\C$ is not convex."
   ]
  },
  {
   "cell_type": "markdown",
   "metadata": {},
   "source": [
    "### (h) \n",
    "Subtraction from a convex set, i.e., $\\{x\\in\\mathbb{R}^{n} \\:\\mid\\: x +\\mathcal{S}_{2} \\subseteq \\mathcal{S}_{1}, \\quad \\mathcal{S}_{1},\\mathcal{S}_{2}\\subseteq\\mathbb{R}^{n}, \\quad \\mathcal{S}_{1}\\,\\text{convex}\\}$."
   ]
  },
  {
   "cell_type": "markdown",
   "metadata": {},
   "source": [
    "#### My Solution (based on Abhishek's) \n",
    "Note that $\\x + \\S_2 \\subseteq \\S_1$ is the set \n",
    "\n",
    "$$\\{\\x \\suchthat \\x + \\y \\in \\S_1, \\forall \\y \\in S_2\\}\n",
    "= \\bigcap_{\\y \\in \\S_2} \\{\\x \\suchthat \\x + \\y \\in \\S_1 \\}\n",
    "$$ "
   ]
  },
  {
   "cell_type": "markdown",
   "metadata": {},
   "source": [
    "#### Abhishek's Solution:\n",
    "This set is convex. Notice that $x + \\mathcal{S}_{2} \\subseteq \\mathcal{S}_{1}$ if $x + y \\in \\mathcal{S}_{1}$ for all $y\\in\\mathcal{S}_{2}$. Therefore, \n",
    "\n",
    "$$ \\{x\\in\\mathbb{R}^{n} \\:\\mid\\: x +\\mathcal{S}_{2}\\} = \\bigcap_{y\\in\\mathcal{S}_{2}} \\{x \\:\\mid\\: x + y \\in \\mathcal{S}_{1}\\} = \\bigcap_{y\\in\\mathcal{S}_{2}} \\left(\\mathcal{S}_{1} - y\\right),$$\n",
    "\n",
    "the intersection of convex sets $(\\mathcal{S}_{1} - y)$, hence convex."
   ]
  },
  {
   "cell_type": "markdown",
   "metadata": {},
   "source": [
    "(i) Set of points whose distance to a given point ($a\\in\\mathbb{R}^{n}$) does not exceed a fixed fraction ($0\\leq \\theta\\leq 1$) of the distance to another given point ($b\\in\\mathbb{R}^{n}$), i.e., $\\{x\\in\\mathbb{R}^{n} \\:\\mid\\: \\parallel x - a \\parallel_{2} \\:\\leq\\: \\theta\\parallel x - b \\parallel_{2}, \\quad a\\neq b\\}$."
   ]
  },
  {
   "cell_type": "markdown",
   "metadata": {},
   "source": [
    "**Convex.**\n",
    "\n",
    "If $\\theta=0$, then the set is only the point $a$, which is convex. If $\\theta = 1$, the set is the halfspace with a boundary plane that is perpendicular to the line between the points. For $0 < \\theta < 1$, the set is a oval (possibily an ellipse). "
   ]
  },
  {
   "cell_type": "markdown",
   "metadata": {},
   "source": [
    "(j) Expansion of a convex set by $a\\geq 0$, i.e., $\\{x\\in\\mathbb{R}^{n} \\:\\mid\\: {\\rm{dist}}(x,\\mathcal{S})\\leq a, \\quad \\mathcal{S}\\,\\text{convex}\\}$."
   ]
  },
  {
   "cell_type": "markdown",
   "metadata": {
    "collapsed": true
   },
   "source": [
    "#### My Solution (based on Abhishek's) "
   ]
  },
  {
   "cell_type": "markdown",
   "metadata": {},
   "source": [
    "#### Abhishek's Solution:\n",
    "Convex. Let $\\mathcal{S}_{a} := \\{x\\in\\mathbb{R}^{n} \\:\\mid\\: {\\rm{dist}}(x,\\mathcal{S})\\leq a, \\; \\mathcal{S}\\,\\text{convex}\\}$, and consider two points $x_{1}, x_{2} \\in \\mathcal{S}_{a}$. For $0 \\leq \\theta \\leq 1$,\n",
    "\n",
    "$$ {\\rm{dist}}\\left(\\theta x_{1} + (1-\\theta)x_{2},\\mathcal{S}\\right) = \\underset{y\\in\\mathcal{S}}{\\inf}\\:\\parallel \\theta x_{1} + (1-\\theta)x_{2} - y \\parallel_{2} \\:=\\: \\underset{y_{1}, y_{2}\\in\\mathcal{S}}{\\inf}\\:\\parallel \\theta x_{1} + (1-\\theta)x_{2} - \\theta y_{1} - (1-\\theta)y_{2} \\parallel_{2} \\\\\n",
    "= \\underset{y_{1}, y_{2}\\in\\mathcal{S}}{\\inf}\\:\\parallel \\theta (x_{1} - y_{1}) + (1-\\theta)(x_{2}-y_{2}) \\parallel_{2} \\:\\leq\\: \\underset{y_{1}, y_{2}\\in\\mathcal{S}}{\\inf}\\: \\left(\\theta\\parallel x_{1} - y_{1} \\parallel_{2} + (1-\\theta)\\parallel x_{2}-y_{2} \\parallel_{2}\\right) \\\\\n",
    "= \\theta\\:\\underset{y_{1}\\in\\mathcal{S}}{\\inf}\\:\\parallel x_{1} - y_{1} \\parallel_{2} \\:+\\: (1-\\theta)\\:\\underset{y_{2}\\in\\mathcal{S}}{\\inf}\\:\\parallel x_{2} - y_{2} \\parallel_{2} \\,\\leq\\: a.$$\n",
    "Thus, $\\theta x_{1} + (1-\\theta)x_{2} \\in \\mathcal{S}_{a}$, proving convexity."
   ]
  }
 ],
 "metadata": {
  "kernelspec": {
   "display_name": "Python 3",
   "language": "python",
   "name": "python3"
  },
  "language_info": {
   "codemirror_mode": {
    "name": "ipython",
    "version": 3
   },
   "file_extension": ".py",
   "mimetype": "text/x-python",
   "name": "python",
   "nbconvert_exporter": "python",
   "pygments_lexer": "ipython3",
   "version": "3.6.4"
  }
 },
 "nbformat": 4,
 "nbformat_minor": 2
}
