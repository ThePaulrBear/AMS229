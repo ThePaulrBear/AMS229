{
 "cells": [
  {
   "cell_type": "markdown",
   "metadata": {},
   "source": [
    "# (3 x 10 = 30) Which of the following sets are convex? In each case, give detailed reasons for your answer."
   ]
  },
  {
   "cell_type": "markdown",
   "metadata": {},
   "source": [
    "(a) Solution set of quadratic inequality, i.e., $\\{x \\in \\mathbb{R}^{n} \\:\\mid\\: x^{\\top}Ax + b^{\\top}x + c \\leq 0, \\quad A\\in\\mathbb{S}^{n}_{+}, \\quad b\\in\\mathbb{R}^{n}, \\quad c\\in\\mathbb{R} \\}$."
   ]
  },
  {
   "cell_type": "markdown",
   "metadata": {},
   "source": [
    "(b) Hyperbolic set, i.e., $\\{x \\in \\mathbb{R}^{n}_{+} \\: \\mid \\: \\displaystyle\\prod_{i=1}^{n}x_{i} \\geq 1\\}.$"
   ]
  },
  {
   "cell_type": "markdown",
   "metadata": {},
   "source": [
    "(c) A slab, i.e., $\\{x \\in \\mathbb{R}^{n} \\:\\mid\\: \\alpha \\leq a^{\\top}x \\leq \\beta, \\quad a\\in\\mathbb{R}^{n}, \\quad \\alpha,\\beta\\in\\mathbb{R}\\}$."
   ]
  },
  {
   "cell_type": "markdown",
   "metadata": {},
   "source": [
    "(d) A rectangle, i.e., $\\{x\\in \\mathbb{R}^{n}\\:\\mid\\: \\alpha \\leq x \\leq \\beta, \\quad \\alpha,\\beta\\in\\mathbb{R}^{n}, \\quad \\text{vector inequality is elementwise}\\}$."
   ]
  },
  {
   "cell_type": "markdown",
   "metadata": {},
   "source": [
    "(e) A wedge, i.e., $\\{x\\in\\mathbb{R}^{n} \\:\\mid\\: a_{1}^{\\top}x \\leq b_{1}, \\quad a_{2}^{\\top}x \\leq b_{2}, \\quad a_{1},a_{2}\\in\\mathbb{R}^{n}, \\quad b_{1},b_{2}\\in\\mathbb{R}\\}$."
   ]
  },
  {
   "cell_type": "markdown",
   "metadata": {},
   "source": [
    "(f) Set of points closer to a given point than a given set, i.e., $\\{x\\in\\mathbb{R}^{n} \\:\\mid\\: \\parallel x - x_{0}\\parallel_{2} \\:\\leq\\: \\parallel x - y\\parallel_{2}, \\quad \\forall\\:y\\in\\mathcal{S}\\subseteq\\mathbb{R}^{n}, \\quad x_{0}\\in\\mathbb{R}^{n}\\}$."
   ]
  },
  {
   "cell_type": "markdown",
   "metadata": {},
   "source": [
    "(g) Set of points closer to one set than another, i.e., $\\{x\\in\\mathbb{R}^{n} \\:\\mid\\: {\\rm{dist}}(x,\\mathcal{S})\\leq {\\rm{dist}}(x,\\mathcal{T}), \\quad \\mathcal{S},\\mathcal{T}\\subseteq\\mathbb{R}^{n}\\},\\quad$and$\\quad{\\rm{dist}}(x,\\mathcal{S}) := \\inf\\{\\parallel x - z \\parallel_{2} \\:\\mid\\: z\\in\\mathcal{S}\\}$."
   ]
  },
  {
   "cell_type": "markdown",
   "metadata": {},
   "source": [
    "(h) Subtraction from a convex set, i.e., $\\{x\\in\\mathbb{R}^{n} \\:\\mid\\: x +\\mathcal{S}_{2} \\subseteq \\mathcal{S}_{1}, \\quad \\mathcal{S}_{1},\\mathcal{S}_{2}\\subseteq\\mathbb{R}^{n}, \\quad \\mathcal{S}_{1}\\,\\text{convex}\\}$."
   ]
  },
  {
   "cell_type": "markdown",
   "metadata": {},
   "source": [
    "(i) Set of points whose distance to a given point ($a\\in\\mathbb{R}^{n}$) does not exceed a fixed fraction ($0\\leq \\theta\\leq 1$) of the distance to another given point ($b\\in\\mathbb{R}^{n}$), i.e., $\\{x\\in\\mathbb{R}^{n} \\:\\mid\\: \\parallel x - a \\parallel_{2} \\:\\leq\\: \\theta\\parallel x - b \\parallel_{2}, \\quad a\\neq b\\}$."
   ]
  },
  {
   "cell_type": "markdown",
   "metadata": {},
   "source": [
    "(j) Expansion of a convex set by $a\\geq 0$, i.e., $\\{x\\in\\mathbb{R}^{n} \\:\\mid\\: {\\rm{dist}}(x,\\mathcal{S})\\leq a, \\quad \\mathcal{S}\\,\\text{convex}\\}$."
   ]
  },
  {
   "cell_type": "code",
   "execution_count": null,
   "metadata": {
    "collapsed": true
   },
   "outputs": [],
   "source": []
  }
 ],
 "metadata": {
  "kernelspec": {
   "display_name": "Python 3",
   "language": "python",
   "name": "python3"
  },
  "language_info": {
   "codemirror_mode": {
    "name": "ipython",
    "version": 3
   },
   "file_extension": ".py",
   "mimetype": "text/x-python",
   "name": "python",
   "nbconvert_exporter": "python",
   "pygments_lexer": "ipython3",
   "version": "3.6.4"
  }
 },
 "nbformat": 4,
 "nbformat_minor": 2
}
