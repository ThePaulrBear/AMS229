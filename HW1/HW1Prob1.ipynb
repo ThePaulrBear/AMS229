{
 "cells": [
  {
   "cell_type": "markdown",
   "metadata": {
    "collapsed": true,
    "deletable": false,
    "editable": false,
    "nbgrader": {
     "checksum": "fa48b101f9dc42f83e8da434d0a345ed",
     "grade": false,
     "grade_id": "cell-82ef2c2792a01bb4",
     "locked": true,
     "schema_version": 1,
     "solution": false
    }
   },
   "source": [
    "# Positive semidefinite matrices\n",
    "\n",
    "A real $n\\times n$ matrix $X$ is called positive semidefinite (resp. positive definite) if it satisfies\n",
    "$$ X = X^{\\top}, \\quad v^{\\top} X v \\geq (\\text{resp.} >) \\, 0, \\qquad \\forall \\, v \\in \\mathbb{R}^{n}.$$"
   ]
  },
  {
   "cell_type": "markdown",
   "metadata": {
    "deletable": false,
    "nbgrader": {
     "checksum": "db48c623105bb9c8977965528559732f",
     "grade": true,
     "grade_id": "cell-3c6adf218161f955",
     "locked": false,
     "points": 10,
     "schema_version": 1,
     "solution": true
    }
   },
   "source": [
    "YOUR ANSWER HERE"
   ]
  },
  {
   "cell_type": "markdown",
   "metadata": {
    "deletable": false,
    "nbgrader": {
     "checksum": "11a2d27dd1341d653306680fa38a26cc",
     "grade": true,
     "grade_id": "cell-0d7e0dbd1c80b290",
     "locked": false,
     "points": 10,
     "schema_version": 1,
     "solution": true
    }
   },
   "source": [
    "YOUR ANSWER HERE"
   ]
  },
  {
   "cell_type": "markdown",
   "metadata": {
    "deletable": false,
    "nbgrader": {
     "checksum": "096204c32850fda81b48829bce113a83",
     "grade": true,
     "grade_id": "cell-ebc8da5ea74dd4fd",
     "locked": false,
     "points": 10,
     "schema_version": 1,
     "solution": true
    }
   },
   "source": [
    "YOUR ANSWER HERE"
   ]
  },
  {
   "cell_type": "markdown",
   "metadata": {
    "deletable": false,
    "nbgrader": {
     "checksum": "0e67a03fa02a340a42d83006474c3aa8",
     "grade": true,
     "grade_id": "cell-8d1183c45e88b82c",
     "locked": false,
     "points": 10,
     "schema_version": 1,
     "solution": true
    }
   },
   "source": [
    "YOUR ANSWER HERE"
   ]
  },
  {
   "cell_type": "code",
   "execution_count": null,
   "metadata": {},
   "outputs": [],
   "source": []
  }
 ],
 "metadata": {
  "kernelspec": {
   "display_name": "Python 2",
   "language": "python",
   "name": "python2"
  },
  "language_info": {
   "codemirror_mode": {
    "name": "ipython",
    "version": 2
   },
   "file_extension": ".py",
   "mimetype": "text/x-python",
   "name": "python",
   "nbconvert_exporter": "python",
   "pygments_lexer": "ipython2",
   "version": "2.7.14"
  }
 },
 "nbformat": 4,
 "nbformat_minor": 2
}
